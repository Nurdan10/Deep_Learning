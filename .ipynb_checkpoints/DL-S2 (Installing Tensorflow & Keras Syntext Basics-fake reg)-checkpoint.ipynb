{
 "cells": [
  {
   "cell_type": "markdown",
   "metadata": {
    "id": "yQGQcaYcYF_5"
   },
   "source": [
    "___\n",
    "\n",
    "<p style=\"text-align: center;\"><img src=\"https://docs.google.com/uc?id=1lY0Uj5R04yMY3-ZppPWxqCr5pvBLYPnV\" class=\"img-fluid\" alt=\"CLRSWY\"></p>\n",
    "\n",
    "___"
   ]
  },
  {
   "cell_type": "markdown",
   "metadata": {
    "id": "bV_OY9eBYF_7"
   },
   "source": [
    "<h1 style=\"text-align: center;\">Deep Learning<br><br>Session - 2<br><br>Installing Tensorflow & Keras Syntax Basics<br><br>Fake Reg<br><h1>"
   ]
  },
  {
   "cell_type": "markdown",
   "metadata": {
    "id": "AVMFCWTuYF_7"
   },
   "source": [
    "# Installing Tensorflow"
   ]
  },
  {
   "cell_type": "markdown",
   "metadata": {},
   "source": [
    "If you are using python's package manager `pip`, you can install tensorflow by running:\n",
    "```bash\n",
    "!pip install tensorflow\n",
    "```\n",
    "However, this way of installing packages is discouraged. You should be using a more sophisticated package\n",
    "manager such as the one that comes with the `anaconda` distribution, which handles dependencies and version compatibility as well.\n",
    "If you are using `anaconda`, you can install tensorflow with:\n",
    "```bash\n",
    "!conda install tensorflow\n",
    "```\n",
    "In case you have access to a cuda-enabled gpu, you should instead install the gpu compatible version of tensorflow with:\n",
    "```bash\n",
    "!conda install tensorflow-gpu\n",
    "```\n",
    "If you are not sure if your gpu is cuda-enabled, you can visit [this link](https://developer.nvidia.com/cuda-gpus).\n",
    "Please note that, at the time of writing this, only nvidia gpus are cuda-enabled."
   ]
  },
  {
   "cell_type": "code",
   "execution_count": 1,
   "metadata": {},
   "outputs": [],
   "source": [
    "try:\n",
    "    import jupyter_black\n",
    "\n",
    "    jupyter_black.load()\n",
    "except ImportError:\n",
    "    pass"
   ]
  },
  {
   "cell_type": "code",
   "execution_count": 2,
   "metadata": {},
   "outputs": [],
   "source": [
    "import os\n",
    "\n",
    "# Set TF log level to ignore INFOs.\n",
    "os.environ[\"TF_CPP_MIN_LOG_LEVEL\"] = \"1\""
   ]
  },
  {
   "cell_type": "code",
   "execution_count": 3,
   "metadata": {
    "colab": {
     "base_uri": "https://localhost:8080/"
    },
    "executionInfo": {
     "elapsed": 11,
     "status": "ok",
     "timestamp": 1655407692762,
     "user": {
      "displayName": "Edward Williams",
      "userId": "15751998290745019023"
     },
     "user_tz": -120
    },
    "id": "LomvgaXNYF_8",
    "outputId": "dec7132a-4cff-4c0c-894d-e1d113ee59b9"
   },
   "outputs": [
    {
     "name": "stdout",
     "output_type": "stream",
     "text": [
      "Python 3.11.7\n"
     ]
    }
   ],
   "source": [
    "# Check python version\n",
    "!python --version"
   ]
  },
  {
   "cell_type": "code",
   "execution_count": 1,
   "metadata": {
    "id": "PJmTZvrkYF_-",
    "outputId": "bfd0a8a4-ba6a-4184-f74b-c30d80d54fda"
   },
   "outputs": [
    {
     "ename": "ModuleNotFoundError",
     "evalue": "No module named 'tensorflow'",
     "output_type": "error",
     "traceback": [
      "\u001b[1;31m---------------------------------------------------------------------------\u001b[0m",
      "\u001b[1;31mModuleNotFoundError\u001b[0m                       Traceback (most recent call last)",
      "Cell \u001b[1;32mIn[1], line 2\u001b[0m\n\u001b[0;32m      1\u001b[0m \u001b[38;5;66;03m# Check tensorflow version\u001b[39;00m\n\u001b[1;32m----> 2\u001b[0m \u001b[38;5;28;01mimport\u001b[39;00m \u001b[38;5;21;01mtensorflow\u001b[39;00m \u001b[38;5;28;01mas\u001b[39;00m \u001b[38;5;21;01mtf\u001b[39;00m\n\u001b[0;32m      4\u001b[0m tf\u001b[38;5;241m.\u001b[39m__version__\n",
      "\u001b[1;31mModuleNotFoundError\u001b[0m: No module named 'tensorflow'"
     ]
    }
   ],
   "source": [
    "# Check tensorflow version\n",
    "import tensorflow as tf\n",
    "\n",
    "tf.__version__"
   ]
  },
  {
   "cell_type": "code",
   "execution_count": 5,
   "metadata": {},
   "outputs": [
    {
     "name": "stdout",
     "output_type": "stream",
     "text": [
      "GPU support is enabled for this session\n"
     ]
    }
   ],
   "source": [
    "# List cuda-capable gpu's that are attached to this session\n",
    "if tf.config.list_physical_devices(\"GPU\"):\n",
    "    print(\"GPU support is enabled for this session\")\n",
    "else:\n",
    "    print(\"CPU will be used for this session\")"
   ]
  },
  {
   "cell_type": "code",
   "execution_count": 6,
   "metadata": {},
   "outputs": [
    {
     "name": "stdout",
     "output_type": "stream",
     "text": [
      "Thu Apr 27 10:25:05 2023       \n",
      "+---------------------------------------------------------------------------------------+\n",
      "| NVIDIA-SMI 530.47                 Driver Version: 531.68       CUDA Version: 12.1     |\n",
      "|-----------------------------------------+----------------------+----------------------+\n",
      "| GPU  Name                  Persistence-M| Bus-Id        Disp.A | Volatile Uncorr. ECC |\n",
      "| Fan  Temp  Perf            Pwr:Usage/Cap|         Memory-Usage | GPU-Util  Compute M. |\n",
      "|                                         |                      |               MIG M. |\n",
      "|=========================================+======================+======================|\n",
      "|   0  NVIDIA GeForce RTX 3090         On | 00000000:02:00.0 Off |                  N/A |\n",
      "|  0%   49C    P8               15W / 350W|  24332MiB / 24576MiB |      0%      Default |\n",
      "|                                         |                      |                  N/A |\n",
      "+-----------------------------------------+----------------------+----------------------+\n",
      "                                                                                         \n",
      "+---------------------------------------------------------------------------------------+\n",
      "| Processes:                                                                            |\n",
      "|  GPU   GI   CI        PID   Type   Process name                            GPU Memory |\n",
      "|        ID   ID                                                             Usage      |\n",
      "|=======================================================================================|\n",
      "|    0   N/A  N/A        22      G   /Xwayland                                 N/A      |\n",
      "|    0   N/A  N/A     17187      C   /python3.9                                N/A      |\n",
      "|    0   N/A  N/A     21339      C   /python3.9                                N/A      |\n",
      "+---------------------------------------------------------------------------------------+\n"
     ]
    }
   ],
   "source": [
    "# Get more information about the GPU\n",
    "if tf.config.list_physical_devices(\"GPU\"):\n",
    "    !nvidia-smi"
   ]
  },
  {
   "cell_type": "markdown",
   "metadata": {
    "id": "ID58GLICYF__"
   },
   "source": [
    "# Keras Syntax Basics"
   ]
  },
  {
   "cell_type": "code",
   "execution_count": 7,
   "metadata": {
    "id": "ltaJwcuGYF__"
   },
   "outputs": [],
   "source": [
    "import numpy as np\n",
    "import pandas as pd\n",
    "import matplotlib.pyplot as plt\n",
    "import seaborn as sns\n",
    "\n",
    "# Uncomment the following lines if you want to suppress warnings:\n",
    "# import warnings\n",
    "# warnings.filterwarnings(\"ignore\")\n",
    "# warnings.warn(\"this will not show\")\n",
    "\n",
    "plt.rcParams[\"figure.figsize\"] = (10, 6)\n",
    "\n",
    "sns.set_style(\"whitegrid\")\n",
    "pd.set_option(\"display.float_format\", lambda x: \"%.3f\" % x)\n",
    "\n",
    "# Set it to None to display all rows in the dataframe:\n",
    "# pd.set_option('display.max_rows', None)\n",
    "\n",
    "# Set it to None to display all columns in the dataframe:\n",
    "pd.set_option(\"display.max_columns\", None)"
   ]
  },
  {
   "cell_type": "code",
   "execution_count": 8,
   "metadata": {
    "id": "_ZmgVPfxYGAA"
   },
   "outputs": [],
   "source": [
    "# If importing data from google drive, import drive from google.colab and mount your drive to the session:\n",
    "# from google.colab import drive\n",
    "# drive.mount('/content/drive')"
   ]
  },
  {
   "cell_type": "code",
   "execution_count": 9,
   "metadata": {
    "id": "GpeUB7FNYGAA"
   },
   "outputs": [],
   "source": [
    "# Make sure to provide the correct path if drive is mounted:\n",
    "# df = pd.read_csv(\"drive/MyDrive/Colab_Files/data/fake_reg.csv\")"
   ]
  },
  {
   "cell_type": "code",
   "execution_count": 10,
   "metadata": {
    "id": "ZuOi0MyeYGAA"
   },
   "outputs": [],
   "source": [
    "df = pd.read_csv(\"fake_reg.csv\")"
   ]
  },
  {
   "cell_type": "markdown",
   "metadata": {
    "id": "kLE5OOGyYGAC"
   },
   "source": [
    "## Exploratory Data Analysis and Visualization"
   ]
  },
  {
   "cell_type": "code",
   "execution_count": 11,
   "metadata": {
    "id": "CaLCY4fmYGAC",
    "outputId": "03fc2465-6d6a-40d4-e602-5c6298c0f0d1"
   },
   "outputs": [
    {
     "data": {
      "text/html": [
       "<div>\n",
       "<style scoped>\n",
       "    .dataframe tbody tr th:only-of-type {\n",
       "        vertical-align: middle;\n",
       "    }\n",
       "\n",
       "    .dataframe tbody tr th {\n",
       "        vertical-align: top;\n",
       "    }\n",
       "\n",
       "    .dataframe thead th {\n",
       "        text-align: right;\n",
       "    }\n",
       "</style>\n",
       "<table border=\"1\" class=\"dataframe\">\n",
       "  <thead>\n",
       "    <tr style=\"text-align: right;\">\n",
       "      <th></th>\n",
       "      <th>price</th>\n",
       "      <th>feature1</th>\n",
       "      <th>feature2</th>\n",
       "    </tr>\n",
       "  </thead>\n",
       "  <tbody>\n",
       "    <tr>\n",
       "      <th>0</th>\n",
       "      <td>461.528</td>\n",
       "      <td>999.788</td>\n",
       "      <td>999.766</td>\n",
       "    </tr>\n",
       "    <tr>\n",
       "      <th>1</th>\n",
       "      <td>548.130</td>\n",
       "      <td>998.862</td>\n",
       "      <td>1001.042</td>\n",
       "    </tr>\n",
       "    <tr>\n",
       "      <th>2</th>\n",
       "      <td>410.297</td>\n",
       "      <td>1000.070</td>\n",
       "      <td>998.844</td>\n",
       "    </tr>\n",
       "    <tr>\n",
       "      <th>3</th>\n",
       "      <td>540.382</td>\n",
       "      <td>999.952</td>\n",
       "      <td>1000.441</td>\n",
       "    </tr>\n",
       "    <tr>\n",
       "      <th>4</th>\n",
       "      <td>546.025</td>\n",
       "      <td>1000.446</td>\n",
       "      <td>1000.339</td>\n",
       "    </tr>\n",
       "  </tbody>\n",
       "</table>\n",
       "</div>"
      ],
      "text/plain": [
       "    price  feature1  feature2\n",
       "0 461.528   999.788   999.766\n",
       "1 548.130   998.862  1001.042\n",
       "2 410.297  1000.070   998.844\n",
       "3 540.382   999.952  1000.441\n",
       "4 546.025  1000.446  1000.339"
      ]
     },
     "execution_count": 11,
     "metadata": {},
     "output_type": "execute_result"
    }
   ],
   "source": [
    "df.head()"
   ]
  },
  {
   "cell_type": "code",
   "execution_count": 12,
   "metadata": {
    "id": "j5NcInMDYGAD",
    "outputId": "2ba29901-3b23-47a6-9bdd-2a91bd01d0b6"
   },
   "outputs": [
    {
     "name": "stdout",
     "output_type": "stream",
     "text": [
      "<class 'pandas.core.frame.DataFrame'>\n",
      "RangeIndex: 1000 entries, 0 to 999\n",
      "Data columns (total 3 columns):\n",
      " #   Column    Non-Null Count  Dtype  \n",
      "---  ------    --------------  -----  \n",
      " 0   price     1000 non-null   float64\n",
      " 1   feature1  1000 non-null   float64\n",
      " 2   feature2  1000 non-null   float64\n",
      "dtypes: float64(3)\n",
      "memory usage: 23.6 KB\n"
     ]
    }
   ],
   "source": [
    "df.info()"
   ]
  },
  {
   "cell_type": "code",
   "execution_count": 13,
   "metadata": {
    "id": "Gy5QaohhYGAD",
    "outputId": "10c2589c-5583-45ef-82e6-6fd9e435dba3"
   },
   "outputs": [
    {
     "data": {
      "text/html": [
       "<div>\n",
       "<style scoped>\n",
       "    .dataframe tbody tr th:only-of-type {\n",
       "        vertical-align: middle;\n",
       "    }\n",
       "\n",
       "    .dataframe tbody tr th {\n",
       "        vertical-align: top;\n",
       "    }\n",
       "\n",
       "    .dataframe thead th {\n",
       "        text-align: right;\n",
       "    }\n",
       "</style>\n",
       "<table border=\"1\" class=\"dataframe\">\n",
       "  <thead>\n",
       "    <tr style=\"text-align: right;\">\n",
       "      <th></th>\n",
       "      <th>count</th>\n",
       "      <th>mean</th>\n",
       "      <th>std</th>\n",
       "      <th>min</th>\n",
       "      <th>25%</th>\n",
       "      <th>50%</th>\n",
       "      <th>75%</th>\n",
       "      <th>max</th>\n",
       "    </tr>\n",
       "  </thead>\n",
       "  <tbody>\n",
       "    <tr>\n",
       "      <th>price</th>\n",
       "      <td>1000.000</td>\n",
       "      <td>498.673</td>\n",
       "      <td>93.785</td>\n",
       "      <td>223.347</td>\n",
       "      <td>433.026</td>\n",
       "      <td>502.382</td>\n",
       "      <td>564.922</td>\n",
       "      <td>774.408</td>\n",
       "    </tr>\n",
       "    <tr>\n",
       "      <th>feature1</th>\n",
       "      <td>1000.000</td>\n",
       "      <td>1000.014</td>\n",
       "      <td>0.974</td>\n",
       "      <td>997.058</td>\n",
       "      <td>999.332</td>\n",
       "      <td>1000.010</td>\n",
       "      <td>1000.638</td>\n",
       "      <td>1003.208</td>\n",
       "    </tr>\n",
       "    <tr>\n",
       "      <th>feature2</th>\n",
       "      <td>1000.000</td>\n",
       "      <td>999.980</td>\n",
       "      <td>0.948</td>\n",
       "      <td>996.996</td>\n",
       "      <td>999.316</td>\n",
       "      <td>1000.002</td>\n",
       "      <td>1000.645</td>\n",
       "      <td>1002.666</td>\n",
       "    </tr>\n",
       "  </tbody>\n",
       "</table>\n",
       "</div>"
      ],
      "text/plain": [
       "            count     mean    std     min     25%      50%      75%      max\n",
       "price    1000.000  498.673 93.785 223.347 433.026  502.382  564.922  774.408\n",
       "feature1 1000.000 1000.014  0.974 997.058 999.332 1000.010 1000.638 1003.208\n",
       "feature2 1000.000  999.980  0.948 996.996 999.316 1000.002 1000.645 1002.666"
      ]
     },
     "execution_count": 13,
     "metadata": {},
     "output_type": "execute_result"
    }
   ],
   "source": [
    "df.describe().T"
   ]
  },
  {
   "cell_type": "code",
   "execution_count": 14,
   "metadata": {
    "id": "-Ebw6uXDYGAE",
    "outputId": "df70872e-46b8-4ff5-8193-3ec36d7849a3"
   },
   "outputs": [
    {
     "data": {
      "image/png": "[encoded data removed]",
      "text/plain": [
       "<Figure size 750x750 with 12 Axes>"
      ]
     },
     "metadata": {},
     "output_type": "display_data"
    }
   ],
   "source": [
    "sns.pairplot(df)\n",
    "plt.show()"
   ]
  },
  {
   "cell_type": "code",
   "execution_count": 15,
   "metadata": {
    "id": "R-MKjPmNYGAE",
    "outputId": "090a6046-c267-40dc-cd4e-40b812b71bb0"
   },
   "outputs": [
    {
     "data": {
      "text/html": [
       "<div>\n",
       "<style scoped>\n",
       "    .dataframe tbody tr th:only-of-type {\n",
       "        vertical-align: middle;\n",
       "    }\n",
       "\n",
       "    .dataframe tbody tr th {\n",
       "        vertical-align: top;\n",
       "    }\n",
       "\n",
       "    .dataframe thead th {\n",
       "        text-align: right;\n",
       "    }\n",
       "</style>\n",
       "<table border=\"1\" class=\"dataframe\">\n",
       "  <thead>\n",
       "    <tr style=\"text-align: right;\">\n",
       "      <th></th>\n",
       "      <th>price</th>\n",
       "      <th>feature1</th>\n",
       "      <th>feature2</th>\n",
       "    </tr>\n",
       "  </thead>\n",
       "  <tbody>\n",
       "    <tr>\n",
       "      <th>price</th>\n",
       "      <td>1.000</td>\n",
       "      <td>0.444</td>\n",
       "      <td>0.908</td>\n",
       "    </tr>\n",
       "    <tr>\n",
       "      <th>feature1</th>\n",
       "      <td>0.444</td>\n",
       "      <td>1.000</td>\n",
       "      <td>0.031</td>\n",
       "    </tr>\n",
       "    <tr>\n",
       "      <th>feature2</th>\n",
       "      <td>0.908</td>\n",
       "      <td>0.031</td>\n",
       "      <td>1.000</td>\n",
       "    </tr>\n",
       "  </tbody>\n",
       "</table>\n",
       "</div>"
      ],
      "text/plain": [
       "          price  feature1  feature2\n",
       "price     1.000     0.444     0.908\n",
       "feature1  0.444     1.000     0.031\n",
       "feature2  0.908     0.031     1.000"
      ]
     },
     "execution_count": 15,
     "metadata": {},
     "output_type": "execute_result"
    }
   ],
   "source": [
    "df.corr()"
   ]
  },
  {
   "cell_type": "markdown",
   "metadata": {
    "id": "O3Ku2VSEYGAF"
   },
   "source": [
    "## Preprocessing of Data\n",
    "1. Split the data into train and test sets\n",
    "2. Scale the dataset\n",
    "\n",
    "**Note:** *Neural networks are extremely sensitive to the scale of your data, as they are using gradient descent as the optimisation algorithm which may not converge if the data has columns of different scales.*"
   ]
  },
  {
   "cell_type": "code",
   "execution_count": 16,
   "metadata": {
    "id": "QRWJczjFYGAF"
   },
   "outputs": [],
   "source": [
    "from sklearn.model_selection import train_test_split"
   ]
  },
  {
   "cell_type": "code",
   "execution_count": 17,
   "metadata": {
    "id": "isOKQsJUYGAG"
   },
   "outputs": [],
   "source": [
    "X = df[[\"feature1\", \"feature2\"]]\n",
    "y = df[\"price\"]"
   ]
  },
  {
   "cell_type": "code",
   "execution_count": 18,
   "metadata": {
    "id": "yUGOs7EKYGAG",
    "outputId": "1c466c61-b6f4-4dd3-8988-0d40df6e19ec"
   },
   "outputs": [
    {
     "data": {
      "text/html": [
       "<div>\n",
       "<style scoped>\n",
       "    .dataframe tbody tr th:only-of-type {\n",
       "        vertical-align: middle;\n",
       "    }\n",
       "\n",
       "    .dataframe tbody tr th {\n",
       "        vertical-align: top;\n",
       "    }\n",
       "\n",
       "    .dataframe thead th {\n",
       "        text-align: right;\n",
       "    }\n",
       "</style>\n",
       "<table border=\"1\" class=\"dataframe\">\n",
       "  <thead>\n",
       "    <tr style=\"text-align: right;\">\n",
       "      <th></th>\n",
       "      <th>feature1</th>\n",
       "      <th>feature2</th>\n",
       "    </tr>\n",
       "  </thead>\n",
       "  <tbody>\n",
       "    <tr>\n",
       "      <th>0</th>\n",
       "      <td>999.788</td>\n",
       "      <td>999.766</td>\n",
       "    </tr>\n",
       "    <tr>\n",
       "      <th>1</th>\n",
       "      <td>998.862</td>\n",
       "      <td>1001.042</td>\n",
       "    </tr>\n",
       "    <tr>\n",
       "      <th>2</th>\n",
       "      <td>1000.070</td>\n",
       "      <td>998.844</td>\n",
       "    </tr>\n",
       "    <tr>\n",
       "      <th>3</th>\n",
       "      <td>999.952</td>\n",
       "      <td>1000.441</td>\n",
       "    </tr>\n",
       "    <tr>\n",
       "      <th>4</th>\n",
       "      <td>1000.446</td>\n",
       "      <td>1000.339</td>\n",
       "    </tr>\n",
       "    <tr>\n",
       "      <th>...</th>\n",
       "      <td>...</td>\n",
       "      <td>...</td>\n",
       "    </tr>\n",
       "    <tr>\n",
       "      <th>995</th>\n",
       "      <td>1000.019</td>\n",
       "      <td>999.673</td>\n",
       "    </tr>\n",
       "    <tr>\n",
       "      <th>996</th>\n",
       "      <td>998.855</td>\n",
       "      <td>1000.020</td>\n",
       "    </tr>\n",
       "    <tr>\n",
       "      <th>997</th>\n",
       "      <td>1001.452</td>\n",
       "      <td>998.848</td>\n",
       "    </tr>\n",
       "    <tr>\n",
       "      <th>998</th>\n",
       "      <td>1000.771</td>\n",
       "      <td>998.563</td>\n",
       "    </tr>\n",
       "    <tr>\n",
       "      <th>999</th>\n",
       "      <td>999.232</td>\n",
       "      <td>1001.451</td>\n",
       "    </tr>\n",
       "  </tbody>\n",
       "</table>\n",
       "<p>1000 rows × 2 columns</p>\n",
       "</div>"
      ],
      "text/plain": [
       "     feature1  feature2\n",
       "0     999.788   999.766\n",
       "1     998.862  1001.042\n",
       "2    1000.070   998.844\n",
       "3     999.952  1000.441\n",
       "4    1000.446  1000.339\n",
       "..        ...       ...\n",
       "995  1000.019   999.673\n",
       "996   998.855  1000.020\n",
       "997  1001.452   998.848\n",
       "998  1000.771   998.563\n",
       "999   999.232  1001.451\n",
       "\n",
       "[1000 rows x 2 columns]"
      ]
     },
     "execution_count": 18,
     "metadata": {},
     "output_type": "execute_result"
    }
   ],
   "source": [
    "X"
   ]
  },
  {
   "cell_type": "code",
   "execution_count": 19,
   "metadata": {
    "id": "cSQQ1ZxAYGAG",
    "outputId": "252ef114-27e1-417a-c20e-bc454f820453"
   },
   "outputs": [
    {
     "data": {
      "text/plain": [
       "0     461.528\n",
       "1     548.130\n",
       "2     410.297\n",
       "3     540.382\n",
       "4     546.025\n",
       "        ...  \n",
       "995   476.526\n",
       "996   457.313\n",
       "997   456.721\n",
       "998   403.316\n",
       "999   599.367\n",
       "Name: price, Length: 1000, dtype: float64"
      ]
     },
     "execution_count": 19,
     "metadata": {},
     "output_type": "execute_result"
    }
   ],
   "source": [
    "y"
   ]
  },
  {
   "cell_type": "code",
   "execution_count": 20,
   "metadata": {
    "id": "9wrSrCGbYGAH"
   },
   "outputs": [],
   "source": [
    "X_train, X_test, y_train, y_test = train_test_split(\n",
    "    X, y, test_size=0.3, random_state=42\n",
    ")"
   ]
  },
  {
   "cell_type": "code",
   "execution_count": 21,
   "metadata": {
    "id": "cofsZt3PYGAH",
    "outputId": "35d2786a-0b29-4132-d673-04e160ec4627"
   },
   "outputs": [
    {
     "data": {
      "text/plain": [
       "(700, 2)"
      ]
     },
     "execution_count": 21,
     "metadata": {},
     "output_type": "execute_result"
    }
   ],
   "source": [
    "X_train.shape"
   ]
  },
  {
   "cell_type": "code",
   "execution_count": 22,
   "metadata": {
    "id": "GpBVP5DUYGAI",
    "outputId": "9dbdc53b-bbf3-40a3-c2e8-95c3910843ad"
   },
   "outputs": [
    {
     "data": {
      "text/plain": [
       "(300, 2)"
      ]
     },
     "execution_count": 22,
     "metadata": {},
     "output_type": "execute_result"
    }
   ],
   "source": [
    "X_test.shape"
   ]
  },
  {
   "cell_type": "code",
   "execution_count": 23,
   "metadata": {
    "id": "orqAUW2pYGAI"
   },
   "outputs": [],
   "source": [
    "from sklearn.preprocessing import MinMaxScaler"
   ]
  },
  {
   "cell_type": "code",
   "execution_count": 24,
   "metadata": {
    "id": "4yxVgMqWYGAI",
    "outputId": "8d3de8a6-0973-4301-fbab-167f0e496d6c"
   },
   "outputs": [],
   "source": [
    "# Uncomment to see the documentation of MinMaxScaler taken from the docstring of the class:\n",
    "# help(MinMaxScaler)"
   ]
  },
  {
   "cell_type": "code",
   "execution_count": 25,
   "metadata": {
    "id": "5TjLQgawYGAJ"
   },
   "outputs": [],
   "source": [
    "scaler = MinMaxScaler()"
   ]
  },
  {
   "cell_type": "code",
   "execution_count": 26,
   "metadata": {
    "id": "7ZxtfDOiYGAJ"
   },
   "outputs": [],
   "source": [
    "scaler.fit(X_train)\n",
    "X_train = scaler.transform(X_train)\n",
    "X_test = scaler.transform(X_test)"
   ]
  },
  {
   "cell_type": "markdown",
   "metadata": {
    "id": "OsAGjlP8YGAJ"
   },
   "source": [
    "## Modelling"
   ]
  },
  {
   "cell_type": "code",
   "execution_count": 27,
   "metadata": {
    "id": "q660_m04YGAJ"
   },
   "outputs": [],
   "source": [
    "import tensorflow as tf"
   ]
  },
  {
   "cell_type": "code",
   "execution_count": 28,
   "metadata": {
    "id": "nfNl-tmAYGAJ"
   },
   "outputs": [],
   "source": [
    "from tensorflow.keras.models import Sequential\n",
    "from tensorflow.keras.layers import Input, Dense, Activation"
   ]
  },
  {
   "cell_type": "code",
   "execution_count": 29,
   "metadata": {
    "id": "qBLOUTnFYGAJ",
    "outputId": "ffad1111-e952-4133-9ce6-7a6fa2b4ecab"
   },
   "outputs": [],
   "source": [
    "# Uncomment to see the docstring of the Sequential class\n",
    "# help(Sequential)"
   ]
  },
  {
   "cell_type": "code",
   "execution_count": 30,
   "metadata": {
    "id": "QN8IhxZQYGAK",
    "outputId": "58757bfb-d31d-49d8-9570-e622c5c16fc8"
   },
   "outputs": [],
   "source": [
    "# Uncomment to see the docstring of the Dense class.\n",
    "# help(Dense)"
   ]
  },
  {
   "cell_type": "code",
   "execution_count": 31,
   "metadata": {
    "id": "7OEp6qC5YGAK",
    "outputId": "f9d7a8e4-0a11-4c5a-8207-a5031204bac5"
   },
   "outputs": [
    {
     "data": {
      "text/plain": [
       "(700, 2)"
      ]
     },
     "execution_count": 31,
     "metadata": {},
     "output_type": "execute_result"
    }
   ],
   "source": [
    "X_train.shape"
   ]
  },
  {
   "cell_type": "code",
   "execution_count": 32,
   "metadata": {
    "id": "qckVKgVCYGAK"
   },
   "outputs": [],
   "source": [
    "# First way to create the model using the Sequential API\n",
    "\n",
    "model = Sequential(\n",
    "    [\n",
    "        Input(shape=X_train.shape[1]),\n",
    "        Dense(units=4, activation=\"relu\"),\n",
    "        Dense(units=4, activation=\"relu\"),\n",
    "        Dense(units=4, activation=\"relu\"),\n",
    "        Dense(units=1),\n",
    "    ]\n",
    ")"
   ]
  },
  {
   "cell_type": "code",
   "execution_count": 33,
   "metadata": {
    "id": "nuCWh5vdYGAL"
   },
   "outputs": [],
   "source": [
    "# The recommended way of creating the model using the Sequential API\n",
    "\n",
    "model = Sequential()\n",
    "# Uncomment to explicitly add an input layer (not recommended).\n",
    "# model.add(Input(shape = X_train.shape[1]))\n",
    "model.add(\n",
    "    Dense(units=4, activation=\"relu\", input_dim=X_train.shape[1])\n",
    ")  # Here the first hidden layer\n",
    "# also behaves like the input layer as well, if provided with the input_dim parameter.\n",
    "model.add(Dense(units=4, activation=\"relu\"))\n",
    "model.add(Dense(units=4, activation=\"relu\"))\n",
    "model.add(Dense(units=1))"
   ]
  },
  {
   "cell_type": "code",
   "execution_count": 34,
   "metadata": {
    "id": "Bj4tisKlYGAL",
    "outputId": "dc03782f-ec70-48e3-dd3c-2c810618630e"
   },
   "outputs": [
    {
     "name": "stdout",
     "output_type": "stream",
     "text": [
      "Model: \"sequential_1\"\n",
      "_________________________________________________________________\n",
      " Layer (type)                Output Shape              Param #   \n",
      "=================================================================\n",
      " dense_4 (Dense)             (None, 4)                 12        \n",
      "                                                                 \n",
      " dense_5 (Dense)             (None, 4)                 20        \n",
      "                                                                 \n",
      " dense_6 (Dense)             (None, 4)                 20        \n",
      "                                                                 \n",
      " dense_7 (Dense)             (None, 1)                 5         \n",
      "                                                                 \n",
      "=================================================================\n",
      "Total params: 57\n",
      "Trainable params: 57\n",
      "Non-trainable params: 0\n",
      "_________________________________________________________________\n"
     ]
    }
   ],
   "source": [
    "# If input_dim is not provided when the model was created, this will return an error\n",
    "# because input dimensions are needed to calculate the number of parameters.\n",
    "model.summary()"
   ]
  },
  {
   "cell_type": "code",
   "execution_count": 35,
   "metadata": {
    "id": "CwMFcvfgYGAM",
    "outputId": "e2f45f9a-d539-4832-f7c9-f32c8f5e0e39"
   },
   "outputs": [
    {
     "data": {
      "text/plain": [
       "[<tf.Variable 'dense_4/kernel:0' shape=(2, 4) dtype=float32, numpy=\n",
       " array([[ 0.4675448 , -0.93699193, -0.8900292 , -0.6109228 ],\n",
       "        [-0.39446092, -0.34224892,  0.74770784,  0.22598696]],\n",
       "       dtype=float32)>,\n",
       " <tf.Variable 'dense_4/bias:0' shape=(4,) dtype=float32, numpy=array([0., 0., 0., 0.], dtype=float32)>,\n",
       " <tf.Variable 'dense_5/kernel:0' shape=(4, 4) dtype=float32, numpy=\n",
       " array([[ 0.18478268,  0.5233579 ,  0.13370079,  0.7369724 ],\n",
       "        [-0.3278798 , -0.12637353, -0.6287079 ,  0.52810985],\n",
       "        [ 0.12628251, -0.74050003,  0.79948694, -0.14919376],\n",
       "        [-0.63365936, -0.67920417, -0.7552226 , -0.22163892]],\n",
       "       dtype=float32)>,\n",
       " <tf.Variable 'dense_5/bias:0' shape=(4,) dtype=float32, numpy=array([0., 0., 0., 0.], dtype=float32)>,\n",
       " <tf.Variable 'dense_6/kernel:0' shape=(4, 4) dtype=float32, numpy=\n",
       " array([[ 0.6374522 ,  0.01004589, -0.5430597 , -0.52624905],\n",
       "        [-0.0703063 ,  0.0316326 , -0.2188577 ,  0.05294925],\n",
       "        [-0.30600816,  0.49000865,  0.24022263, -0.5793699 ],\n",
       "        [ 0.6569229 , -0.40661344,  0.11812872,  0.46017784]],\n",
       "       dtype=float32)>,\n",
       " <tf.Variable 'dense_6/bias:0' shape=(4,) dtype=float32, numpy=array([0., 0., 0., 0.], dtype=float32)>,\n",
       " <tf.Variable 'dense_7/kernel:0' shape=(4, 1) dtype=float32, numpy=\n",
       " array([[ 0.9441235],\n",
       "        [-0.4378128],\n",
       "        [ 1.0287211],\n",
       "        [-0.5095193]], dtype=float32)>,\n",
       " <tf.Variable 'dense_7/bias:0' shape=(1,) dtype=float32, numpy=array([0.], dtype=float32)>]"
      ]
     },
     "execution_count": 35,
     "metadata": {},
     "output_type": "execute_result"
    }
   ],
   "source": [
    "model.weights"
   ]
  },
  {
   "cell_type": "markdown",
   "metadata": {
    "id": "kz14aXjQYGAM"
   },
   "source": [
    "### Choosing an optimizer and loss\n",
    "\n",
    "Keep in mind what kind of a problem you are trying to solve:\n",
    "\n",
    "- For a multi-class classification problem:\n",
    "```python\n",
    "    model.compile(optimizer='rmsprop',\n",
    "                  loss='categorical_crossentropy',\n",
    "                  metrics=['accuracy'])\n",
    "```\n",
    "- For a binary classification problem:\n",
    "```python\n",
    "    model.compile(optimizer='rmsprop',\n",
    "                  loss='binary_crossentropy',\n",
    "                  metrics=['accuracy'])\n",
    "```\n",
    "- For a regression problem with `mse` loss:\n",
    "```python\n",
    "    model.compile(optimizer='rmsprop',\n",
    "                  loss='mse')\n",
    "```\n",
    "\n",
    "**Note:** *The optimiser* `rmsprop` *was chosen as an example here. You can choose any optimiser you want that is suitable for the problem you have at hand.*"
   ]
  },
  {
   "cell_type": "code",
   "execution_count": 36,
   "metadata": {
    "id": "llcb_-x4YGAN"
   },
   "outputs": [],
   "source": [
    "model.compile(optimizer=\"rmsprop\", loss=\"mse\")"
   ]
  },
  {
   "cell_type": "code",
   "execution_count": 37,
   "metadata": {
    "id": "x5x1CSf0YGAN",
    "outputId": "41e77dce-6d1d-4946-fd1a-80ddd669ce91",
    "scrolled": true,
    "tags": []
   },
   "outputs": [
    {
     "name": "stdout",
     "output_type": "stream",
     "text": [
      "Epoch 1/250\n",
      "22/22 [==============================] - 3s 6ms/step - loss: 256631.1719\n",
      "Epoch 2/250\n",
      "22/22 [==============================] - 0s 5ms/step - loss: 256476.9375\n",
      "Epoch 3/250\n",
      "22/22 [==============================] - 0s 5ms/step - loss: 256310.3281\n",
      "Epoch 4/250\n",
      "22/22 [==============================] - 0s 4ms/step - loss: 256118.9531\n",
      "Epoch 5/250\n",
      "22/22 [==============================] - 0s 5ms/step - loss: 255896.2344\n",
      "Epoch 6/250\n",
      "22/22 [==============================] - 0s 5ms/step - loss: 255638.3281\n",
      "Epoch 7/250\n",
      "22/22 [==============================] - 0s 4ms/step - loss: 255341.8750\n",
      "Epoch 8/250\n",
      "22/22 [==============================] - 0s 5ms/step - loss: 255001.2344\n",
      "Epoch 9/250\n",
      "22/22 [==============================] - 0s 4ms/step - loss: 254609.1406\n",
      "Epoch 10/250\n",
      "22/22 [==============================] - 0s 4ms/step - loss: 254162.7812\n",
      "Epoch 11/250\n",
      "22/22 [==============================] - 0s 5ms/step - loss: 253655.5625\n",
      "Epoch 12/250\n",
      "22/22 [==============================] - 0s 5ms/step - loss: 253081.8438\n",
      "Epoch 13/250\n",
      "22/22 [==============================] - 0s 4ms/step - loss: 252437.7344\n",
      "Epoch 14/250\n",
      "22/22 [==============================] - 0s 5ms/step - loss: 251713.7344\n",
      "Epoch 15/250\n",
      "22/22 [==============================] - 0s 6ms/step - loss: 250905.0781\n",
      "Epoch 16/250\n",
      "22/22 [==============================] - 0s 4ms/step - loss: 250007.0469\n",
      "Epoch 17/250\n",
      "22/22 [==============================] - 0s 5ms/step - loss: 249017.6250\n",
      "Epoch 18/250\n",
      "22/22 [==============================] - 0s 6ms/step - loss: 247927.8125\n",
      "Epoch 19/250\n",
      "22/22 [==============================] - 0s 5ms/step - loss: 246724.9531\n",
      "Epoch 20/250\n",
      "22/22 [==============================] - 0s 5ms/step - loss: 245411.8594\n",
      "Epoch 21/250\n",
      "22/22 [==============================] - 0s 5ms/step - loss: 243989.0781\n",
      "Epoch 22/250\n",
      "22/22 [==============================] - 0s 5ms/step - loss: 242434.8594\n",
      "Epoch 23/250\n",
      "22/22 [==============================] - 0s 8ms/step - loss: 240753.8750\n",
      "Epoch 24/250\n",
      "22/22 [==============================] - 0s 5ms/step - loss: 238937.5312\n",
      "Epoch 25/250\n",
      "22/22 [==============================] - 0s 5ms/step - loss: 236979.5469\n",
      "Epoch 26/250\n",
      "22/22 [==============================] - 0s 5ms/step - loss: 234858.2656\n",
      "Epoch 27/250\n",
      "22/22 [==============================] - 0s 5ms/step - loss: 232602.4219\n",
      "Epoch 28/250\n",
      "22/22 [==============================] - 0s 5ms/step - loss: 230192.8906\n",
      "Epoch 29/250\n",
      "22/22 [==============================] - 0s 5ms/step - loss: 227620.4062\n",
      "Epoch 30/250\n",
      "22/22 [==============================] - 0s 5ms/step - loss: 224857.6875\n",
      "Epoch 31/250\n",
      "22/22 [==============================] - 0s 6ms/step - loss: 221943.4219\n",
      "Epoch 32/250\n",
      "22/22 [==============================] - 0s 6ms/step - loss: 218839.5469\n",
      "Epoch 33/250\n",
      "22/22 [==============================] - 0s 6ms/step - loss: 215560.4531\n",
      "Epoch 34/250\n",
      "22/22 [==============================] - 0s 6ms/step - loss: 212090.5312\n",
      "Epoch 35/250\n",
      "22/22 [==============================] - 0s 6ms/step - loss: 208420.5312\n",
      "Epoch 36/250\n",
      "22/22 [==============================] - 0s 5ms/step - loss: 204594.5625\n",
      "Epoch 37/250\n",
      "22/22 [==============================] - 0s 5ms/step - loss: 200553.5469\n",
      "Epoch 38/250\n",
      "22/22 [==============================] - 0s 5ms/step - loss: 196298.2656\n",
      "Epoch 39/250\n",
      "22/22 [==============================] - 0s 5ms/step - loss: 191871.1094\n",
      "Epoch 40/250\n",
      "22/22 [==============================] - 0s 6ms/step - loss: 187238.0625\n",
      "Epoch 41/250\n",
      "22/22 [==============================] - 0s 5ms/step - loss: 182391.1250\n",
      "Epoch 42/250\n",
      "22/22 [==============================] - 0s 5ms/step - loss: 177372.7500\n",
      "Epoch 43/250\n",
      "22/22 [==============================] - 0s 6ms/step - loss: 172165.9375\n",
      "Epoch 44/250\n",
      "22/22 [==============================] - 0s 5ms/step - loss: 166783.0469\n",
      "Epoch 45/250\n",
      "22/22 [==============================] - 0s 5ms/step - loss: 161185.6875\n",
      "Epoch 46/250\n",
      "22/22 [==============================] - 0s 6ms/step - loss: 155376.0156\n",
      "Epoch 47/250\n",
      "22/22 [==============================] - 0s 5ms/step - loss: 149453.6094\n",
      "Epoch 48/250\n",
      "22/22 [==============================] - 0s 5ms/step - loss: 143361.0938\n",
      "Epoch 49/250\n",
      "22/22 [==============================] - 0s 5ms/step - loss: 137097.1562\n",
      "Epoch 50/250\n",
      "22/22 [==============================] - 0s 5ms/step - loss: 130689.2031\n",
      "Epoch 51/250\n",
      "22/22 [==============================] - 0s 5ms/step - loss: 124156.7109\n",
      "Epoch 52/250\n",
      "22/22 [==============================] - 0s 5ms/step - loss: 117569.0859\n",
      "Epoch 53/250\n",
      "22/22 [==============================] - 0s 5ms/step - loss: 110864.5703\n",
      "Epoch 54/250\n",
      "22/22 [==============================] - 0s 5ms/step - loss: 104010.4141\n",
      "Epoch 55/250\n",
      "22/22 [==============================] - 0s 5ms/step - loss: 97150.5000\n",
      "Epoch 56/250\n",
      "22/22 [==============================] - 0s 5ms/step - loss: 90265.5703\n",
      "Epoch 57/250\n",
      "22/22 [==============================] - 0s 5ms/step - loss: 83369.2734\n",
      "Epoch 58/250\n",
      "22/22 [==============================] - 0s 5ms/step - loss: 76467.7266\n",
      "Epoch 59/250\n",
      "22/22 [==============================] - 0s 5ms/step - loss: 69664.8438\n",
      "Epoch 60/250\n",
      "22/22 [==============================] - 0s 5ms/step - loss: 62883.3711\n",
      "Epoch 61/250\n",
      "22/22 [==============================] - 0s 5ms/step - loss: 56248.8047\n",
      "Epoch 62/250\n",
      "22/22 [==============================] - 0s 5ms/step - loss: 49780.1094\n",
      "Epoch 63/250\n",
      "22/22 [==============================] - 0s 5ms/step - loss: 43549.6719\n",
      "Epoch 64/250\n",
      "22/22 [==============================] - 0s 5ms/step - loss: 37529.2930\n",
      "Epoch 65/250\n",
      "22/22 [==============================] - 0s 5ms/step - loss: 31799.8477\n",
      "Epoch 66/250\n",
      "22/22 [==============================] - 0s 5ms/step - loss: 26456.0020\n",
      "Epoch 67/250\n",
      "22/22 [==============================] - 0s 5ms/step - loss: 21471.6465\n",
      "Epoch 68/250\n",
      "22/22 [==============================] - 0s 5ms/step - loss: 17010.4062\n",
      "Epoch 69/250\n",
      "22/22 [==============================] - 0s 5ms/step - loss: 13032.0469\n",
      "Epoch 70/250\n",
      "22/22 [==============================] - 0s 5ms/step - loss: 9579.7383\n",
      "Epoch 71/250\n",
      "22/22 [==============================] - 0s 5ms/step - loss: 6780.7017\n",
      "Epoch 72/250\n",
      "22/22 [==============================] - 0s 5ms/step - loss: 4633.4722\n",
      "Epoch 73/250\n",
      "22/22 [==============================] - 0s 5ms/step - loss: 3185.2507\n",
      "Epoch 74/250\n",
      "22/22 [==============================] - 0s 6ms/step - loss: 2404.1072\n",
      "Epoch 75/250\n",
      "22/22 [==============================] - 0s 5ms/step - loss: 2126.6643\n",
      "Epoch 76/250\n",
      "22/22 [==============================] - 0s 6ms/step - loss: 2058.5576\n",
      "Epoch 77/250\n",
      "22/22 [==============================] - 0s 5ms/step - loss: 2023.8911\n",
      "Epoch 78/250\n",
      "22/22 [==============================] - 0s 4ms/step - loss: 1976.2382\n",
      "Epoch 79/250\n",
      "22/22 [==============================] - 0s 5ms/step - loss: 1941.0057\n",
      "Epoch 80/250\n",
      "22/22 [==============================] - 0s 5ms/step - loss: 1896.9031\n",
      "Epoch 81/250\n",
      "22/22 [==============================] - 0s 5ms/step - loss: 1861.3434\n",
      "Epoch 82/250\n",
      "22/22 [==============================] - 0s 5ms/step - loss: 1822.6003\n",
      "Epoch 83/250\n",
      "22/22 [==============================] - 0s 5ms/step - loss: 1782.8330\n",
      "Epoch 84/250\n",
      "22/22 [==============================] - 0s 5ms/step - loss: 1746.4882\n",
      "Epoch 85/250\n",
      "22/22 [==============================] - 0s 5ms/step - loss: 1703.3496\n",
      "Epoch 86/250\n",
      "22/22 [==============================] - 0s 5ms/step - loss: 1656.6515\n",
      "Epoch 87/250\n",
      "22/22 [==============================] - 0s 8ms/step - loss: 1629.9158\n",
      "Epoch 88/250\n",
      "22/22 [==============================] - 0s 5ms/step - loss: 1593.8850\n",
      "Epoch 89/250\n",
      "22/22 [==============================] - 0s 5ms/step - loss: 1558.4353\n",
      "Epoch 90/250\n",
      "22/22 [==============================] - 0s 5ms/step - loss: 1523.1448\n",
      "Epoch 91/250\n",
      "22/22 [==============================] - 0s 4ms/step - loss: 1481.6721\n",
      "Epoch 92/250\n",
      "22/22 [==============================] - 0s 4ms/step - loss: 1446.6624\n",
      "Epoch 93/250\n",
      "22/22 [==============================] - 0s 4ms/step - loss: 1411.4866\n",
      "Epoch 94/250\n",
      "22/22 [==============================] - 0s 4ms/step - loss: 1382.4127\n",
      "Epoch 95/250\n",
      "22/22 [==============================] - 0s 4ms/step - loss: 1348.7938\n",
      "Epoch 96/250\n",
      "22/22 [==============================] - 0s 4ms/step - loss: 1315.6970\n",
      "Epoch 97/250\n",
      "22/22 [==============================] - 0s 4ms/step - loss: 1281.9611\n",
      "Epoch 98/250\n",
      "22/22 [==============================] - 0s 4ms/step - loss: 1247.3462\n",
      "Epoch 99/250\n",
      "22/22 [==============================] - 0s 4ms/step - loss: 1212.2426\n",
      "Epoch 100/250\n",
      "22/22 [==============================] - 0s 4ms/step - loss: 1182.6520\n",
      "Epoch 101/250\n",
      "22/22 [==============================] - 0s 3ms/step - loss: 1148.2119\n",
      "Epoch 102/250\n",
      "22/22 [==============================] - 0s 4ms/step - loss: 1114.3702\n",
      "Epoch 103/250\n",
      "22/22 [==============================] - 0s 4ms/step - loss: 1083.0574\n",
      "Epoch 104/250\n",
      "22/22 [==============================] - 0s 4ms/step - loss: 1048.6678\n",
      "Epoch 105/250\n",
      "22/22 [==============================] - 0s 3ms/step - loss: 1019.2649\n",
      "Epoch 106/250\n",
      "22/22 [==============================] - 0s 3ms/step - loss: 987.9726\n",
      "Epoch 107/250\n",
      "22/22 [==============================] - 0s 3ms/step - loss: 958.4980\n",
      "Epoch 108/250\n",
      "22/22 [==============================] - 0s 3ms/step - loss: 926.0059\n",
      "Epoch 109/250\n",
      "22/22 [==============================] - 0s 3ms/step - loss: 896.8137\n",
      "Epoch 110/250\n",
      "22/22 [==============================] - 0s 3ms/step - loss: 870.5903\n",
      "Epoch 111/250\n",
      "22/22 [==============================] - 0s 3ms/step - loss: 843.1395\n",
      "Epoch 112/250\n",
      "22/22 [==============================] - 0s 3ms/step - loss: 814.3138\n",
      "Epoch 113/250\n",
      "22/22 [==============================] - 0s 4ms/step - loss: 784.8873\n",
      "Epoch 114/250\n",
      "22/22 [==============================] - 0s 3ms/step - loss: 755.9982\n",
      "Epoch 115/250\n",
      "22/22 [==============================] - 0s 3ms/step - loss: 727.8287\n",
      "Epoch 116/250\n",
      "22/22 [==============================] - 0s 4ms/step - loss: 704.3840\n",
      "Epoch 117/250\n",
      "22/22 [==============================] - 0s 4ms/step - loss: 677.2339\n",
      "Epoch 118/250\n",
      "22/22 [==============================] - 0s 3ms/step - loss: 653.0320\n",
      "Epoch 119/250\n",
      "22/22 [==============================] - 0s 4ms/step - loss: 628.0999\n",
      "Epoch 120/250\n",
      "22/22 [==============================] - 0s 4ms/step - loss: 603.7845\n",
      "Epoch 121/250\n",
      "22/22 [==============================] - 0s 3ms/step - loss: 579.7296\n",
      "Epoch 122/250\n",
      "22/22 [==============================] - 0s 3ms/step - loss: 557.8549\n",
      "Epoch 123/250\n",
      "22/22 [==============================] - 0s 3ms/step - loss: 532.3674\n",
      "Epoch 124/250\n",
      "22/22 [==============================] - 0s 3ms/step - loss: 511.7712\n",
      "Epoch 125/250\n",
      "22/22 [==============================] - 0s 3ms/step - loss: 490.4167\n",
      "Epoch 126/250\n",
      "22/22 [==============================] - 0s 3ms/step - loss: 467.5001\n",
      "Epoch 127/250\n",
      "22/22 [==============================] - 0s 3ms/step - loss: 448.9510\n",
      "Epoch 128/250\n",
      "22/22 [==============================] - 0s 3ms/step - loss: 429.6023\n",
      "Epoch 129/250\n",
      "22/22 [==============================] - 0s 3ms/step - loss: 407.5191\n",
      "Epoch 130/250\n",
      "22/22 [==============================] - 0s 3ms/step - loss: 389.9433\n",
      "Epoch 131/250\n",
      "22/22 [==============================] - 0s 3ms/step - loss: 368.5429\n",
      "Epoch 132/250\n",
      "22/22 [==============================] - 0s 3ms/step - loss: 349.9353\n",
      "Epoch 133/250\n",
      "22/22 [==============================] - 0s 3ms/step - loss: 331.1399\n",
      "Epoch 134/250\n",
      "22/22 [==============================] - 0s 3ms/step - loss: 310.9471\n",
      "Epoch 135/250\n",
      "22/22 [==============================] - 0s 3ms/step - loss: 291.7179\n",
      "Epoch 136/250\n",
      "22/22 [==============================] - 0s 3ms/step - loss: 273.4069\n",
      "Epoch 137/250\n",
      "22/22 [==============================] - 0s 3ms/step - loss: 255.7895\n",
      "Epoch 138/250\n",
      "22/22 [==============================] - 0s 3ms/step - loss: 239.9491\n",
      "Epoch 139/250\n",
      "22/22 [==============================] - 0s 3ms/step - loss: 226.0540\n",
      "Epoch 140/250\n",
      "22/22 [==============================] - 0s 3ms/step - loss: 210.9960\n",
      "Epoch 141/250\n",
      "22/22 [==============================] - 0s 3ms/step - loss: 198.4495\n",
      "Epoch 142/250\n",
      "22/22 [==============================] - 0s 3ms/step - loss: 184.8533\n",
      "Epoch 143/250\n",
      "22/22 [==============================] - 0s 3ms/step - loss: 172.0461\n",
      "Epoch 144/250\n",
      "22/22 [==============================] - 0s 3ms/step - loss: 160.0271\n",
      "Epoch 145/250\n",
      "22/22 [==============================] - 0s 4ms/step - loss: 148.6851\n",
      "Epoch 146/250\n",
      "22/22 [==============================] - 0s 3ms/step - loss: 137.5740\n",
      "Epoch 147/250\n",
      "22/22 [==============================] - 0s 3ms/step - loss: 127.0107\n",
      "Epoch 148/250\n",
      "22/22 [==============================] - 0s 4ms/step - loss: 117.6623\n",
      "Epoch 149/250\n",
      "22/22 [==============================] - 0s 4ms/step - loss: 108.7007\n",
      "Epoch 150/250\n",
      "22/22 [==============================] - 0s 4ms/step - loss: 100.4811\n",
      "Epoch 151/250\n",
      "22/22 [==============================] - 0s 3ms/step - loss: 92.1855\n",
      "Epoch 152/250\n",
      "22/22 [==============================] - 0s 4ms/step - loss: 85.1884\n",
      "Epoch 153/250\n",
      "22/22 [==============================] - 0s 3ms/step - loss: 77.4462\n",
      "Epoch 154/250\n",
      "22/22 [==============================] - 0s 4ms/step - loss: 71.8579\n",
      "Epoch 155/250\n",
      "22/22 [==============================] - 0s 3ms/step - loss: 65.2189\n",
      "Epoch 156/250\n",
      "22/22 [==============================] - 0s 3ms/step - loss: 60.4605\n",
      "Epoch 157/250\n",
      "22/22 [==============================] - 0s 4ms/step - loss: 55.0459\n",
      "Epoch 158/250\n",
      "22/22 [==============================] - 0s 4ms/step - loss: 50.6881\n",
      "Epoch 159/250\n",
      "22/22 [==============================] - 0s 3ms/step - loss: 47.6969\n",
      "Epoch 160/250\n",
      "22/22 [==============================] - 0s 3ms/step - loss: 43.8050\n",
      "Epoch 161/250\n",
      "22/22 [==============================] - 0s 3ms/step - loss: 40.7050\n",
      "Epoch 162/250\n",
      "22/22 [==============================] - 0s 4ms/step - loss: 37.5920\n",
      "Epoch 163/250\n",
      "22/22 [==============================] - 0s 4ms/step - loss: 35.7528\n",
      "Epoch 164/250\n",
      "22/22 [==============================] - 0s 4ms/step - loss: 33.4984\n",
      "Epoch 165/250\n",
      "22/22 [==============================] - 0s 3ms/step - loss: 32.1083\n",
      "Epoch 166/250\n",
      "22/22 [==============================] - 0s 4ms/step - loss: 30.2946\n",
      "Epoch 167/250\n",
      "22/22 [==============================] - 0s 4ms/step - loss: 29.0393\n",
      "Epoch 168/250\n",
      "22/22 [==============================] - 0s 3ms/step - loss: 27.9553\n",
      "Epoch 169/250\n",
      "22/22 [==============================] - 0s 4ms/step - loss: 27.8342\n",
      "Epoch 170/250\n",
      "22/22 [==============================] - 0s 3ms/step - loss: 26.8419\n",
      "Epoch 171/250\n",
      "22/22 [==============================] - 0s 4ms/step - loss: 26.5646\n",
      "Epoch 172/250\n",
      "22/22 [==============================] - 0s 4ms/step - loss: 26.2545\n",
      "Epoch 173/250\n",
      "22/22 [==============================] - 0s 4ms/step - loss: 25.6130\n",
      "Epoch 174/250\n",
      "22/22 [==============================] - 0s 3ms/step - loss: 25.3768\n",
      "Epoch 175/250\n",
      "22/22 [==============================] - 0s 4ms/step - loss: 25.3244\n",
      "Epoch 176/250\n",
      "22/22 [==============================] - 0s 4ms/step - loss: 25.2867\n",
      "Epoch 177/250\n",
      "22/22 [==============================] - 0s 4ms/step - loss: 24.3641\n",
      "Epoch 178/250\n",
      "22/22 [==============================] - 0s 3ms/step - loss: 24.7904\n",
      "Epoch 179/250\n",
      "22/22 [==============================] - 0s 3ms/step - loss: 24.9127\n",
      "Epoch 180/250\n",
      "22/22 [==============================] - 0s 3ms/step - loss: 24.2606\n",
      "Epoch 181/250\n",
      "22/22 [==============================] - 0s 3ms/step - loss: 24.7432\n",
      "Epoch 182/250\n",
      "22/22 [==============================] - 0s 3ms/step - loss: 24.6584\n",
      "Epoch 183/250\n",
      "22/22 [==============================] - 0s 3ms/step - loss: 24.1163\n",
      "Epoch 184/250\n",
      "22/22 [==============================] - 0s 4ms/step - loss: 24.3978\n",
      "Epoch 185/250\n",
      "22/22 [==============================] - 0s 3ms/step - loss: 24.7713\n",
      "Epoch 186/250\n",
      "22/22 [==============================] - 0s 3ms/step - loss: 24.2296\n",
      "Epoch 187/250\n",
      "22/22 [==============================] - 0s 3ms/step - loss: 24.4719\n",
      "Epoch 188/250\n",
      "22/22 [==============================] - 0s 3ms/step - loss: 24.3676\n",
      "Epoch 189/250\n",
      "22/22 [==============================] - 0s 3ms/step - loss: 24.1001\n",
      "Epoch 190/250\n",
      "22/22 [==============================] - 0s 3ms/step - loss: 24.5067\n",
      "Epoch 191/250\n",
      "22/22 [==============================] - 0s 3ms/step - loss: 24.8146\n",
      "Epoch 192/250\n",
      "22/22 [==============================] - 0s 3ms/step - loss: 24.3325\n",
      "Epoch 193/250\n",
      "22/22 [==============================] - 0s 3ms/step - loss: 23.7928\n",
      "Epoch 194/250\n",
      "22/22 [==============================] - 0s 3ms/step - loss: 24.0850\n",
      "Epoch 195/250\n",
      "22/22 [==============================] - 0s 4ms/step - loss: 24.3352\n",
      "Epoch 196/250\n",
      "22/22 [==============================] - 0s 3ms/step - loss: 23.8598\n",
      "Epoch 197/250\n",
      "22/22 [==============================] - 0s 3ms/step - loss: 24.7749\n",
      "Epoch 198/250\n",
      "22/22 [==============================] - 0s 4ms/step - loss: 24.5058\n",
      "Epoch 199/250\n",
      "22/22 [==============================] - 0s 3ms/step - loss: 24.2426\n",
      "Epoch 200/250\n",
      "22/22 [==============================] - 0s 3ms/step - loss: 24.8363\n",
      "Epoch 201/250\n",
      "22/22 [==============================] - 0s 3ms/step - loss: 24.5903\n",
      "Epoch 202/250\n",
      "22/22 [==============================] - 0s 3ms/step - loss: 24.1500\n",
      "Epoch 203/250\n",
      "22/22 [==============================] - 0s 4ms/step - loss: 24.9769\n",
      "Epoch 204/250\n",
      "22/22 [==============================] - 0s 4ms/step - loss: 23.9302\n",
      "Epoch 205/250\n",
      "22/22 [==============================] - 0s 3ms/step - loss: 24.4195\n",
      "Epoch 206/250\n",
      "22/22 [==============================] - 0s 3ms/step - loss: 24.2302\n",
      "Epoch 207/250\n",
      "22/22 [==============================] - 0s 3ms/step - loss: 24.4469\n",
      "Epoch 208/250\n",
      "22/22 [==============================] - 0s 4ms/step - loss: 24.2897\n",
      "Epoch 209/250\n",
      "22/22 [==============================] - 0s 3ms/step - loss: 24.4883\n",
      "Epoch 210/250\n",
      "22/22 [==============================] - 0s 3ms/step - loss: 24.1585\n",
      "Epoch 211/250\n",
      "22/22 [==============================] - 0s 3ms/step - loss: 24.5276\n",
      "Epoch 212/250\n",
      "22/22 [==============================] - 0s 3ms/step - loss: 24.1274\n",
      "Epoch 213/250\n",
      "22/22 [==============================] - 0s 4ms/step - loss: 24.7051\n",
      "Epoch 214/250\n",
      "22/22 [==============================] - 0s 4ms/step - loss: 24.2138\n",
      "Epoch 215/250\n",
      "22/22 [==============================] - 0s 4ms/step - loss: 24.4225\n",
      "Epoch 216/250\n",
      "22/22 [==============================] - 0s 4ms/step - loss: 24.2060\n",
      "Epoch 217/250\n",
      "22/22 [==============================] - 0s 4ms/step - loss: 24.4241\n",
      "Epoch 218/250\n",
      "22/22 [==============================] - 0s 3ms/step - loss: 24.1081\n",
      "Epoch 219/250\n",
      "22/22 [==============================] - 0s 3ms/step - loss: 24.3778\n",
      "Epoch 220/250\n",
      "22/22 [==============================] - 0s 3ms/step - loss: 24.6666\n",
      "Epoch 221/250\n",
      "22/22 [==============================] - 0s 3ms/step - loss: 24.3934\n",
      "Epoch 222/250\n",
      "22/22 [==============================] - 0s 3ms/step - loss: 24.1069\n",
      "Epoch 223/250\n",
      "22/22 [==============================] - 0s 3ms/step - loss: 24.8105\n",
      "Epoch 224/250\n",
      "22/22 [==============================] - 0s 3ms/step - loss: 24.0291\n",
      "Epoch 225/250\n",
      "22/22 [==============================] - 0s 3ms/step - loss: 24.3685\n",
      "Epoch 226/250\n",
      "22/22 [==============================] - 0s 4ms/step - loss: 24.2724\n",
      "Epoch 227/250\n",
      "22/22 [==============================] - 0s 4ms/step - loss: 24.4600\n",
      "Epoch 228/250\n",
      "22/22 [==============================] - 0s 4ms/step - loss: 24.1415\n",
      "Epoch 229/250\n",
      "22/22 [==============================] - 0s 4ms/step - loss: 24.3410\n",
      "Epoch 230/250\n",
      "22/22 [==============================] - 0s 3ms/step - loss: 24.4899\n",
      "Epoch 231/250\n",
      "22/22 [==============================] - 0s 3ms/step - loss: 24.1732\n",
      "Epoch 232/250\n",
      "22/22 [==============================] - 0s 3ms/step - loss: 24.6074\n",
      "Epoch 233/250\n",
      "22/22 [==============================] - 0s 3ms/step - loss: 24.4299\n",
      "Epoch 234/250\n",
      "22/22 [==============================] - 0s 3ms/step - loss: 24.3077\n",
      "Epoch 235/250\n",
      "22/22 [==============================] - 0s 4ms/step - loss: 24.1083\n",
      "Epoch 236/250\n",
      "22/22 [==============================] - 0s 4ms/step - loss: 24.6996\n",
      "Epoch 237/250\n",
      "22/22 [==============================] - 0s 4ms/step - loss: 24.1568\n",
      "Epoch 238/250\n",
      "22/22 [==============================] - 0s 4ms/step - loss: 24.5280\n",
      "Epoch 239/250\n",
      "22/22 [==============================] - 0s 4ms/step - loss: 24.5291\n",
      "Epoch 240/250\n",
      "22/22 [==============================] - 0s 4ms/step - loss: 23.9018\n",
      "Epoch 241/250\n",
      "22/22 [==============================] - 0s 4ms/step - loss: 24.2131\n",
      "Epoch 242/250\n",
      "22/22 [==============================] - 0s 3ms/step - loss: 24.1324\n",
      "Epoch 243/250\n",
      "22/22 [==============================] - 0s 4ms/step - loss: 23.8417\n",
      "Epoch 244/250\n",
      "22/22 [==============================] - 0s 4ms/step - loss: 24.3959\n",
      "Epoch 245/250\n",
      "22/22 [==============================] - 0s 3ms/step - loss: 24.3690\n",
      "Epoch 246/250\n",
      "22/22 [==============================] - 0s 3ms/step - loss: 24.3580\n",
      "Epoch 247/250\n",
      "22/22 [==============================] - 0s 4ms/step - loss: 24.1624\n",
      "Epoch 248/250\n",
      "22/22 [==============================] - 0s 3ms/step - loss: 24.5578\n",
      "Epoch 249/250\n",
      "22/22 [==============================] - 0s 4ms/step - loss: 23.9612\n",
      "Epoch 250/250\n",
      "22/22 [==============================] - 0s 4ms/step - loss: 24.6335\n"
     ]
    },
    {
     "data": {
      "text/plain": [
       "<keras.callbacks.History at 0x7fbc085ca5e0>"
      ]
     },
     "execution_count": 37,
     "metadata": {},
     "output_type": "execute_result"
    }
   ],
   "source": [
    "model.fit(x=X_train, y=y_train, batch_size=32, epochs=250)"
   ]
  },
  {
   "cell_type": "code",
   "execution_count": 38,
   "metadata": {
    "id": "Ae4ruPDCYGAN",
    "outputId": "026c85d0-38f4-4142-f814-809dfceb4751"
   },
   "outputs": [
    {
     "name": "stdout",
     "output_type": "stream",
     "text": [
      "Model: \"sequential_1\"\n",
      "_________________________________________________________________\n",
      " Layer (type)                Output Shape              Param #   \n",
      "=================================================================\n",
      " dense_4 (Dense)             (None, 4)                 12        \n",
      "                                                                 \n",
      " dense_5 (Dense)             (None, 4)                 20        \n",
      "                                                                 \n",
      " dense_6 (Dense)             (None, 4)                 20        \n",
      "                                                                 \n",
      " dense_7 (Dense)             (None, 1)                 5         \n",
      "                                                                 \n",
      "=================================================================\n",
      "Total params: 57\n",
      "Trainable params: 57\n",
      "Non-trainable params: 0\n",
      "_________________________________________________________________\n"
     ]
    }
   ],
   "source": [
    "model.summary()"
   ]
  },
  {
   "cell_type": "code",
   "execution_count": 39,
   "metadata": {
    "id": "t0f8HUqqYGAO",
    "outputId": "3211a0fc-9b00-4e5d-8acd-4c1db199d305"
   },
   "outputs": [
    {
     "data": {
      "text/plain": [
       "[<tf.Variable 'dense_4/kernel:0' shape=(2, 4) dtype=float32, numpy=\n",
       " array([[ 2.166246  , -0.93699193,  0.7135224 , -0.64909357],\n",
       "        [ 2.4342    , -0.34224892,  3.4693136 ,  0.15216613]],\n",
       "       dtype=float32)>,\n",
       " <tf.Variable 'dense_4/bias:0' shape=(4,) dtype=float32, numpy=array([ 0.6119657 ,  0.        ,  0.5069611 , -0.07768577], dtype=float32)>,\n",
       " <tf.Variable 'dense_5/kernel:0' shape=(4, 4) dtype=float32, numpy=\n",
       " array([[ 1.9290149 ,  1.984838  ,  1.8892651 ,  2.484964  ],\n",
       "        [-0.3278798 , -0.12637353, -0.6287079 ,  0.52810985],\n",
       "        [ 2.1388566 ,  1.1827325 ,  2.8093026 ,  1.9264424 ],\n",
       "        [-0.5886951 , -0.67920417, -0.68117243, -0.1147182 ]],\n",
       "       dtype=float32)>,\n",
       " <tf.Variable 'dense_5/bias:0' shape=(4,) dtype=float32, numpy=array([0.58932334, 0.33285594, 0.5988361 , 0.5924771 ], dtype=float32)>,\n",
       " <tf.Variable 'dense_6/kernel:0' shape=(4, 4) dtype=float32, numpy=\n",
       " array([[ 2.4303818 , -0.10531586,  1.2484661 , -0.55823845],\n",
       "        [ 1.6555758 ,  0.0316326 ,  1.5078351 ,  0.0249272 ],\n",
       "        [ 1.5256976 ,  0.38218206,  2.0601335 , -0.61197686],\n",
       "        [ 2.421855  , -0.5388624 ,  1.884789  ,  0.42929506]],\n",
       "       dtype=float32)>,\n",
       " <tf.Variable 'dense_6/bias:0' shape=(4,) dtype=float32, numpy=array([ 0.57648253, -0.09620275,  0.5746307 , -0.02368102], dtype=float32)>,\n",
       " <tf.Variable 'dense_7/kernel:0' shape=(4, 1) dtype=float32, numpy=\n",
       " array([[ 2.716783  ],\n",
       "        [-0.35845703],\n",
       "        [ 2.8093884 ],\n",
       "        [-0.4923885 ]], dtype=float32)>,\n",
       " <tf.Variable 'dense_7/bias:0' shape=(1,) dtype=float32, numpy=array([0.56397283], dtype=float32)>]"
      ]
     },
     "execution_count": 39,
     "metadata": {},
     "output_type": "execute_result"
    }
   ],
   "source": [
    "model.weights"
   ]
  },
  {
   "cell_type": "code",
   "execution_count": 40,
   "metadata": {},
   "outputs": [
    {
     "data": {
      "text/plain": [
       "list"
      ]
     },
     "execution_count": 40,
     "metadata": {},
     "output_type": "execute_result"
    }
   ],
   "source": [
    "# Note that the weights attribute is a python list type.\n",
    "type(model.weights)"
   ]
  },
  {
   "cell_type": "code",
   "execution_count": 41,
   "metadata": {},
   "outputs": [
    {
     "data": {
      "text/plain": [
       "<tf.Variable 'dense_4/kernel:0' shape=(2, 4) dtype=float32, numpy=\n",
       "array([[ 2.166246  , -0.93699193,  0.7135224 , -0.64909357],\n",
       "       [ 2.4342    , -0.34224892,  3.4693136 ,  0.15216613]],\n",
       "      dtype=float32)>"
      ]
     },
     "execution_count": 41,
     "metadata": {},
     "output_type": "execute_result"
    }
   ],
   "source": [
    "# Since it's a python list type, we can index it to get weight values for a layer at the specified index.\n",
    "# This returns the weight values for the first hidden layer.\n",
    "model.weights[0]"
   ]
  },
  {
   "cell_type": "code",
   "execution_count": 42,
   "metadata": {},
   "outputs": [
    {
     "data": {
      "text/plain": [
       "<tf.Variable 'dense_4/bias:0' shape=(4,) dtype=float32, numpy=array([ 0.6119657 ,  0.        ,  0.5069611 , -0.07768577], dtype=float32)>"
      ]
     },
     "execution_count": 42,
     "metadata": {},
     "output_type": "execute_result"
    }
   ],
   "source": [
    "# This returns the bias values for the first hidden layer.\n",
    "model.weights[1]"
   ]
  },
  {
   "cell_type": "code",
   "execution_count": 43,
   "metadata": {
    "id": "kh61BRDfYGAO",
    "outputId": "eb6b8fe2-2b81-4515-ad98-d0f4c536fe94",
    "scrolled": true,
    "tags": []
   },
   "outputs": [
    {
     "data": {
      "text/plain": [
       "{'loss': [256631.171875,\n",
       "  256476.9375,\n",
       "  256310.328125,\n",
       "  256118.953125,\n",
       "  255896.234375,\n",
       "  255638.328125,\n",
       "  255341.875,\n",
       "  255001.234375,\n",
       "  254609.140625,\n",
       "  254162.78125,\n",
       "  253655.5625,\n",
       "  253081.84375,\n",
       "  252437.734375,\n",
       "  251713.734375,\n",
       "  250905.078125,\n",
       "  250007.046875,\n",
       "  249017.625,\n",
       "  247927.8125,\n",
       "  246724.953125,\n",
       "  245411.859375,\n",
       "  243989.078125,\n",
       "  242434.859375,\n",
       "  240753.875,\n",
       "  238937.53125,\n",
       "  236979.546875,\n",
       "  234858.265625,\n",
       "  232602.421875,\n",
       "  230192.890625,\n",
       "  227620.40625,\n",
       "  224857.6875,\n",
       "  221943.421875,\n",
       "  218839.546875,\n",
       "  215560.453125,\n",
       "  212090.53125,\n",
       "  208420.53125,\n",
       "  204594.5625,\n",
       "  200553.546875,\n",
       "  196298.265625,\n",
       "  191871.109375,\n",
       "  187238.0625,\n",
       "  182391.125,\n",
       "  177372.75,\n",
       "  172165.9375,\n",
       "  166783.046875,\n",
       "  161185.6875,\n",
       "  155376.015625,\n",
       "  149453.609375,\n",
       "  143361.09375,\n",
       "  137097.15625,\n",
       "  130689.203125,\n",
       "  124156.7109375,\n",
       "  117569.0859375,\n",
       "  110864.5703125,\n",
       "  104010.4140625,\n",
       "  97150.5,\n",
       "  90265.5703125,\n",
       "  83369.2734375,\n",
       "  76467.7265625,\n",
       "  69664.84375,\n",
       "  62883.37109375,\n",
       "  56248.8046875,\n",
       "  49780.109375,\n",
       "  43549.671875,\n",
       "  37529.29296875,\n",
       "  31799.84765625,\n",
       "  26456.001953125,\n",
       "  21471.646484375,\n",
       "  17010.40625,\n",
       "  13032.046875,\n",
       "  9579.73828125,\n",
       "  6780.70166015625,\n",
       "  4633.47216796875,\n",
       "  3185.250732421875,\n",
       "  2404.107177734375,\n",
       "  2126.664306640625,\n",
       "  2058.5576171875,\n",
       "  2023.89111328125,\n",
       "  1976.2381591796875,\n",
       "  1941.0057373046875,\n",
       "  1896.903076171875,\n",
       "  1861.3433837890625,\n",
       "  1822.600341796875,\n",
       "  1782.8330078125,\n",
       "  1746.4881591796875,\n",
       "  1703.349609375,\n",
       "  1656.6514892578125,\n",
       "  1629.915771484375,\n",
       "  1593.885009765625,\n",
       "  1558.435302734375,\n",
       "  1523.144775390625,\n",
       "  1481.672119140625,\n",
       "  1446.662353515625,\n",
       "  1411.486572265625,\n",
       "  1382.4127197265625,\n",
       "  1348.7938232421875,\n",
       "  1315.697021484375,\n",
       "  1281.9610595703125,\n",
       "  1247.34619140625,\n",
       "  1212.2425537109375,\n",
       "  1182.6519775390625,\n",
       "  1148.2119140625,\n",
       "  1114.3702392578125,\n",
       "  1083.057373046875,\n",
       "  1048.6678466796875,\n",
       "  1019.264892578125,\n",
       "  987.9725952148438,\n",
       "  958.498046875,\n",
       "  926.0059204101562,\n",
       "  896.813720703125,\n",
       "  870.5902709960938,\n",
       "  843.1394653320312,\n",
       "  814.3138427734375,\n",
       "  784.8873291015625,\n",
       "  755.9982299804688,\n",
       "  727.8286743164062,\n",
       "  704.384033203125,\n",
       "  677.23388671875,\n",
       "  653.031982421875,\n",
       "  628.099853515625,\n",
       "  603.7844848632812,\n",
       "  579.7296142578125,\n",
       "  557.8549194335938,\n",
       "  532.367431640625,\n",
       "  511.771240234375,\n",
       "  490.41668701171875,\n",
       "  467.5001220703125,\n",
       "  448.95098876953125,\n",
       "  429.6022644042969,\n",
       "  407.5190734863281,\n",
       "  389.9432678222656,\n",
       "  368.5428771972656,\n",
       "  349.935302734375,\n",
       "  331.1398620605469,\n",
       "  310.9471130371094,\n",
       "  291.7178649902344,\n",
       "  273.4068603515625,\n",
       "  255.78945922851562,\n",
       "  239.94908142089844,\n",
       "  226.0540008544922,\n",
       "  210.99595642089844,\n",
       "  198.4495086669922,\n",
       "  184.85333251953125,\n",
       "  172.04611206054688,\n",
       "  160.02706909179688,\n",
       "  148.68507385253906,\n",
       "  137.57398986816406,\n",
       "  127.01066589355469,\n",
       "  117.66230773925781,\n",
       "  108.7006607055664,\n",
       "  100.48114013671875,\n",
       "  92.18551635742188,\n",
       "  85.1883773803711,\n",
       "  77.44615173339844,\n",
       "  71.85786437988281,\n",
       "  65.2188949584961,\n",
       "  60.460514068603516,\n",
       "  55.045936584472656,\n",
       "  50.688106536865234,\n",
       "  47.696868896484375,\n",
       "  43.80504608154297,\n",
       "  40.70503234863281,\n",
       "  37.591983795166016,\n",
       "  35.752811431884766,\n",
       "  33.498435974121094,\n",
       "  32.10829544067383,\n",
       "  30.29460334777832,\n",
       "  29.039329528808594,\n",
       "  27.95530891418457,\n",
       "  27.83420181274414,\n",
       "  26.84185791015625,\n",
       "  26.564611434936523,\n",
       "  26.254472732543945,\n",
       "  25.61296844482422,\n",
       "  25.37683868408203,\n",
       "  25.32440757751465,\n",
       "  25.2867488861084,\n",
       "  24.36408233642578,\n",
       "  24.79042625427246,\n",
       "  24.91274070739746,\n",
       "  24.260583877563477,\n",
       "  24.74321937561035,\n",
       "  24.65837860107422,\n",
       "  24.116344451904297,\n",
       "  24.397750854492188,\n",
       "  24.771255493164062,\n",
       "  24.229595184326172,\n",
       "  24.471866607666016,\n",
       "  24.36762237548828,\n",
       "  24.100135803222656,\n",
       "  24.50667381286621,\n",
       "  24.814632415771484,\n",
       "  24.332508087158203,\n",
       "  23.792795181274414,\n",
       "  24.084989547729492,\n",
       "  24.33522605895996,\n",
       "  23.85980987548828,\n",
       "  24.774932861328125,\n",
       "  24.505800247192383,\n",
       "  24.242645263671875,\n",
       "  24.83631706237793,\n",
       "  24.59028434753418,\n",
       "  24.149993896484375,\n",
       "  24.97686195373535,\n",
       "  23.9301700592041,\n",
       "  24.419506072998047,\n",
       "  24.230201721191406,\n",
       "  24.446928024291992,\n",
       "  24.289653778076172,\n",
       "  24.488309860229492,\n",
       "  24.15854835510254,\n",
       "  24.527620315551758,\n",
       "  24.127363204956055,\n",
       "  24.705142974853516,\n",
       "  24.21375274658203,\n",
       "  24.42247772216797,\n",
       "  24.20604133605957,\n",
       "  24.42405128479004,\n",
       "  24.108102798461914,\n",
       "  24.3778018951416,\n",
       "  24.666601181030273,\n",
       "  24.39341163635254,\n",
       "  24.106895446777344,\n",
       "  24.81048583984375,\n",
       "  24.02906036376953,\n",
       "  24.368545532226562,\n",
       "  24.272357940673828,\n",
       "  24.459959030151367,\n",
       "  24.141462326049805,\n",
       "  24.341035842895508,\n",
       "  24.48988914489746,\n",
       "  24.17317008972168,\n",
       "  24.60741424560547,\n",
       "  24.429946899414062,\n",
       "  24.307676315307617,\n",
       "  24.108261108398438,\n",
       "  24.699573516845703,\n",
       "  24.15679359436035,\n",
       "  24.527957916259766,\n",
       "  24.529067993164062,\n",
       "  23.90178871154785,\n",
       "  24.213054656982422,\n",
       "  24.132383346557617,\n",
       "  23.841732025146484,\n",
       "  24.395851135253906,\n",
       "  24.368972778320312,\n",
       "  24.358022689819336,\n",
       "  24.162416458129883,\n",
       "  24.55783462524414,\n",
       "  23.961231231689453,\n",
       "  24.633468627929688]}"
      ]
     },
     "execution_count": 43,
     "metadata": {},
     "output_type": "execute_result"
    }
   ],
   "source": [
    "# The training history can be accessed like so:\n",
    "model.history.history"
   ]
  },
  {
   "cell_type": "code",
   "execution_count": 44,
   "metadata": {
    "id": "nQo81WikYGAO",
    "outputId": "16d11279-189b-4f52-fe21-689b77fd5394"
   },
   "outputs": [
    {
     "data": {
      "text/plain": [
       "<Axes: >"
      ]
     },
     "execution_count": 44,
     "metadata": {},
     "output_type": "execute_result"
    },
    {
     "data": {
      "image/png": "[encoded data removed]",
      "text/plain": [
       "<Figure size 1000x600 with 1 Axes>"
      ]
     },
     "metadata": {},
     "output_type": "display_data"
    }
   ],
   "source": [
    "# We can easily turn that training history into a dataframe since it's a dict type.\n",
    "loss_df = pd.DataFrame(model.history.history)\n",
    "loss_df.plot()"
   ]
  },
  {
   "cell_type": "code",
   "execution_count": 45,
   "metadata": {
    "id": "I1m7YLuLYGAP",
    "outputId": "98edcebd-3b8f-47e7-fc84-5a90eeb40369"
   },
   "outputs": [
    {
     "data": {
      "text/plain": [
       "(0.0, 3000.0)"
      ]
     },
     "execution_count": 45,
     "metadata": {},
     "output_type": "execute_result"
    },
    {
     "data": {
      "image/png": "[encoded data removed]",
      "text/plain": [
       "<Figure size 1000x600 with 1 Axes>"
      ]
     },
     "metadata": {},
     "output_type": "display_data"
    }
   ],
   "source": [
    "fig, ax = plt.subplots()\n",
    "ax.plot(loss_df)\n",
    "ax.set_xlabel(\"epoch\")\n",
    "ax.set_ylabel(\"loss\")\n",
    "ax.set_title(\"loss - epoch graph\")\n",
    "ax.set_xlim([0, 250])  # focusing on the given x values\n",
    "ax.set_ylim([0, 3000])  # focusing on the given y values"
   ]
  },
  {
   "cell_type": "markdown",
   "metadata": {
    "id": "XjsrwTyCYGAP"
   },
   "source": [
    "## Model Performance"
   ]
  },
  {
   "cell_type": "code",
   "execution_count": 46,
   "metadata": {
    "id": "7ZtTz4geYGAQ"
   },
   "outputs": [],
   "source": [
    "from sklearn.metrics import mean_squared_error, mean_absolute_error, r2_score"
   ]
  },
  {
   "cell_type": "code",
   "execution_count": 47,
   "metadata": {
    "id": "vmFmyNveYGAQ",
    "outputId": "2f9c93a4-3ea7-4025-f36b-bbf9c417a646"
   },
   "outputs": [
    {
     "data": {
      "text/plain": [
       "24.687929153442383"
      ]
     },
     "execution_count": 47,
     "metadata": {},
     "output_type": "execute_result"
    }
   ],
   "source": [
    "model.evaluate(X_train, y_train, verbose=0)"
   ]
  },
  {
   "cell_type": "code",
   "execution_count": 48,
   "metadata": {
    "id": "JrSDNHtXYGAQ",
    "outputId": "cab1cbcc-de7a-4db4-9bef-5033a3618043"
   },
   "outputs": [
    {
     "data": {
      "text/plain": [
       "26.917327880859375"
      ]
     },
     "execution_count": 48,
     "metadata": {},
     "output_type": "execute_result"
    }
   ],
   "source": [
    "model.evaluate(X_test, y_test, verbose=0)"
   ]
  },
  {
   "cell_type": "code",
   "execution_count": 49,
   "metadata": {
    "id": "31BhQL3tYGAQ"
   },
   "outputs": [
    {
     "name": "stdout",
     "output_type": "stream",
     "text": [
      "10/10 [==============================] - 0s 2ms/step\n"
     ]
    }
   ],
   "source": [
    "y_pred = model.predict(X_test)"
   ]
  },
  {
   "cell_type": "code",
   "execution_count": 50,
   "metadata": {
    "id": "851iPS9eYGAR",
    "outputId": "c5b64a81-10b6-4c07-87d9-3bd3107f1991"
   },
   "outputs": [
    {
     "data": {
      "text/html": [
       "<div>\n",
       "<style scoped>\n",
       "    .dataframe tbody tr th:only-of-type {\n",
       "        vertical-align: middle;\n",
       "    }\n",
       "\n",
       "    .dataframe tbody tr th {\n",
       "        vertical-align: top;\n",
       "    }\n",
       "\n",
       "    .dataframe thead th {\n",
       "        text-align: right;\n",
       "    }\n",
       "</style>\n",
       "<table border=\"1\" class=\"dataframe\">\n",
       "  <thead>\n",
       "    <tr style=\"text-align: right;\">\n",
       "      <th></th>\n",
       "      <th>Actual</th>\n",
       "      <th>Pred</th>\n",
       "    </tr>\n",
       "  </thead>\n",
       "  <tbody>\n",
       "    <tr>\n",
       "      <th>916</th>\n",
       "      <td>577.317</td>\n",
       "      <td>579.477</td>\n",
       "    </tr>\n",
       "    <tr>\n",
       "      <th>938</th>\n",
       "      <td>654.839</td>\n",
       "      <td>652.998</td>\n",
       "    </tr>\n",
       "    <tr>\n",
       "      <th>260</th>\n",
       "      <td>275.333</td>\n",
       "      <td>282.026</td>\n",
       "    </tr>\n",
       "    <tr>\n",
       "      <th>761</th>\n",
       "      <td>674.311</td>\n",
       "      <td>664.292</td>\n",
       "    </tr>\n",
       "    <tr>\n",
       "      <th>77</th>\n",
       "      <td>507.434</td>\n",
       "      <td>507.169</td>\n",
       "    </tr>\n",
       "    <tr>\n",
       "      <th>97</th>\n",
       "      <td>722.264</td>\n",
       "      <td>722.832</td>\n",
       "    </tr>\n",
       "    <tr>\n",
       "      <th>86</th>\n",
       "      <td>411.638</td>\n",
       "      <td>418.760</td>\n",
       "    </tr>\n",
       "    <tr>\n",
       "      <th>327</th>\n",
       "      <td>487.188</td>\n",
       "      <td>490.244</td>\n",
       "    </tr>\n",
       "    <tr>\n",
       "      <th>7</th>\n",
       "      <td>417.570</td>\n",
       "      <td>418.044</td>\n",
       "    </tr>\n",
       "    <tr>\n",
       "      <th>893</th>\n",
       "      <td>560.678</td>\n",
       "      <td>551.252</td>\n",
       "    </tr>\n",
       "  </tbody>\n",
       "</table>\n",
       "</div>"
      ],
      "text/plain": [
       "     Actual    Pred\n",
       "916 577.317 579.477\n",
       "938 654.839 652.998\n",
       "260 275.333 282.026\n",
       "761 674.311 664.292\n",
       "77  507.434 507.169\n",
       "97  722.264 722.832\n",
       "86  411.638 418.760\n",
       "327 487.188 490.244\n",
       "7   417.570 418.044\n",
       "893 560.678 551.252"
      ]
     },
     "execution_count": 50,
     "metadata": {},
     "output_type": "execute_result"
    }
   ],
   "source": [
    "my_dict = {\n",
    "    \"Actual\": y_test,\n",
    "    \"Pred\": y_pred.reshape(\n",
    "        -1,\n",
    "    ),\n",
    "}\n",
    "compare = pd.DataFrame(my_dict)\n",
    "compare.sample(10)"
   ]
  },
  {
   "cell_type": "code",
   "execution_count": 51,
   "metadata": {
    "id": "6GXbje2BYGAR",
    "outputId": "59ebc06d-9cb8-4ab0-d031-8aae277529a8"
   },
   "outputs": [
    {
     "data": {
      "text/plain": [
       "<Axes: xlabel='Actual', ylabel='Pred'>"
      ]
     },
     "execution_count": 51,
     "metadata": {},
     "output_type": "execute_result"
    },
    {
     "data": {
      "image/png": "[encoded data removed]",
      "text/plain": [
       "<Figure size 1000x600 with 1 Axes>"
      ]
     },
     "metadata": {},
     "output_type": "display_data"
    }
   ],
   "source": [
    "sns.scatterplot(x=\"Actual\", y=\"Pred\", data=compare)"
   ]
  },
  {
   "cell_type": "code",
   "execution_count": 52,
   "metadata": {
    "id": "qhvwQBwkYGAR"
   },
   "outputs": [],
   "source": [
    "def eval_metric(actual, pred):\n",
    "    \"\"\"Prints regression metrics, calculated using the given\n",
    "    actual and predicted target values.\n",
    "    Args:\n",
    "        actual (list): Actual target values.\n",
    "        pred (list): Predicted target values.\n",
    "    Returns:\n",
    "        None\n",
    "    \"\"\"\n",
    "    mae = mean_absolute_error(actual, pred)\n",
    "    mse = mean_squared_error(actual, pred)\n",
    "    rmse = np.sqrt(mean_squared_error(actual, pred))\n",
    "    score = r2_score(actual, pred)\n",
    "    print(\"r2_score:\", score, \"\\nmae:\", mae, \"\\nmse:\", mse, \"\\nrmse:\", rmse)"
   ]
  },
  {
   "cell_type": "code",
   "execution_count": 53,
   "metadata": {
    "id": "ebkLLagIYGAR",
    "outputId": "966d5588-08ba-4d8a-e775-b3c423dc2751"
   },
   "outputs": [
    {
     "name": "stdout",
     "output_type": "stream",
     "text": [
      "r2_score: 0.9969384403236384 \n",
      "mae: 4.210119601434792 \n",
      "mse: 26.917329620121272 \n",
      "rmse: 5.188191363097672\n"
     ]
    }
   ],
   "source": [
    "eval_metric(y_test, y_pred)"
   ]
  },
  {
   "cell_type": "markdown",
   "metadata": {
    "id": "oKEYU7AdYGAR"
   },
   "source": [
    "## Final Model and Model Deployment"
   ]
  },
  {
   "cell_type": "markdown",
   "metadata": {
    "id": "APF0TKXZYGAS"
   },
   "source": [
    "### Final Model Training"
   ]
  },
  {
   "cell_type": "code",
   "execution_count": 54,
   "metadata": {
    "id": "kIYJpUs8YGAS"
   },
   "outputs": [],
   "source": [
    "scaler = MinMaxScaler().fit(X)"
   ]
  },
  {
   "cell_type": "code",
   "execution_count": 55,
   "metadata": {
    "id": "4H_I5VSCYGAS"
   },
   "outputs": [],
   "source": [
    "import pickle\n",
    "\n",
    "pickle.dump(scaler, open(\"scaler_fake_reg\", \"wb\"))"
   ]
  },
  {
   "cell_type": "code",
   "execution_count": 56,
   "metadata": {
    "id": "4SFqBUE6YGAS"
   },
   "outputs": [],
   "source": [
    "X_scaled = scaler.transform(X)"
   ]
  },
  {
   "cell_type": "code",
   "execution_count": 57,
   "metadata": {
    "id": "D2PHOzS1YGAS",
    "outputId": "61ac518b-94cd-4107-a3d2-82d0dae144c9",
    "scrolled": true,
    "tags": []
   },
   "outputs": [
    {
     "name": "stdout",
     "output_type": "stream",
     "text": [
      "Epoch 1/250\n",
      "32/32 [==============================] - 1s 4ms/step - loss: 257316.2812\n",
      "Epoch 2/250\n",
      "32/32 [==============================] - 0s 4ms/step - loss: 257114.4062\n",
      "Epoch 3/250\n",
      "32/32 [==============================] - 0s 4ms/step - loss: 256890.5469\n",
      "Epoch 4/250\n",
      "32/32 [==============================] - 0s 5ms/step - loss: 256617.6406\n",
      "Epoch 5/250\n",
      "32/32 [==============================] - 0s 4ms/step - loss: 256282.7656\n",
      "Epoch 6/250\n",
      "32/32 [==============================] - 0s 4ms/step - loss: 255877.6250\n",
      "Epoch 7/250\n",
      "32/32 [==============================] - 0s 5ms/step - loss: 255395.2031\n",
      "Epoch 8/250\n",
      "32/32 [==============================] - 0s 4ms/step - loss: 254819.2969\n",
      "Epoch 9/250\n",
      "32/32 [==============================] - 0s 5ms/step - loss: 254147.2656\n",
      "Epoch 10/250\n",
      "32/32 [==============================] - 0s 4ms/step - loss: 253365.8906\n",
      "Epoch 11/250\n",
      "32/32 [==============================] - 0s 4ms/step - loss: 252457.9844\n",
      "Epoch 12/250\n",
      "32/32 [==============================] - 0s 4ms/step - loss: 251415.8750\n",
      "Epoch 13/250\n",
      "32/32 [==============================] - 0s 4ms/step - loss: 250229.1562\n",
      "Epoch 14/250\n",
      "32/32 [==============================] - 0s 4ms/step - loss: 248872.9531\n",
      "Epoch 15/250\n",
      "32/32 [==============================] - 0s 4ms/step - loss: 247354.4062\n",
      "Epoch 16/250\n",
      "32/32 [==============================] - 0s 4ms/step - loss: 245641.7344\n",
      "Epoch 17/250\n",
      "32/32 [==============================] - 0s 4ms/step - loss: 243730.3125\n",
      "Epoch 18/250\n",
      "32/32 [==============================] - 0s 4ms/step - loss: 241612.0781\n",
      "Epoch 19/250\n",
      "32/32 [==============================] - 0s 4ms/step - loss: 239255.2031\n",
      "Epoch 20/250\n",
      "32/32 [==============================] - 0s 4ms/step - loss: 236658.6094\n",
      "Epoch 21/250\n",
      "32/32 [==============================] - 0s 4ms/step - loss: 233807.9219\n",
      "Epoch 22/250\n",
      "32/32 [==============================] - 0s 4ms/step - loss: 230677.1875\n",
      "Epoch 23/250\n",
      "32/32 [==============================] - 0s 4ms/step - loss: 227277.5469\n",
      "Epoch 24/250\n",
      "32/32 [==============================] - 0s 3ms/step - loss: 223600.1406\n",
      "Epoch 25/250\n",
      "32/32 [==============================] - 0s 4ms/step - loss: 219599.5312\n",
      "Epoch 26/250\n",
      "32/32 [==============================] - 0s 3ms/step - loss: 215308.5781\n",
      "Epoch 27/250\n",
      "32/32 [==============================] - 0s 3ms/step - loss: 210657.9688\n",
      "Epoch 28/250\n",
      "32/32 [==============================] - 0s 3ms/step - loss: 205681.3125\n",
      "Epoch 29/250\n",
      "32/32 [==============================] - 0s 3ms/step - loss: 200362.2500\n",
      "Epoch 30/250\n",
      "32/32 [==============================] - 0s 3ms/step - loss: 194697.1562\n",
      "Epoch 31/250\n",
      "32/32 [==============================] - 0s 3ms/step - loss: 188715.6406\n",
      "Epoch 32/250\n",
      "32/32 [==============================] - 0s 3ms/step - loss: 182366.7812\n",
      "Epoch 33/250\n",
      "32/32 [==============================] - 0s 4ms/step - loss: 175698.8594\n",
      "Epoch 34/250\n",
      "32/32 [==============================] - 0s 3ms/step - loss: 168699.5469\n",
      "Epoch 35/250\n",
      "32/32 [==============================] - 0s 3ms/step - loss: 161369.9219\n",
      "Epoch 36/250\n",
      "32/32 [==============================] - 0s 3ms/step - loss: 153692.2344\n",
      "Epoch 37/250\n",
      "32/32 [==============================] - 0s 3ms/step - loss: 145710.5938\n",
      "Epoch 38/250\n",
      "32/32 [==============================] - 0s 3ms/step - loss: 137480.7500\n",
      "Epoch 39/250\n",
      "32/32 [==============================] - 0s 3ms/step - loss: 129010.6484\n",
      "Epoch 40/250\n",
      "32/32 [==============================] - 0s 3ms/step - loss: 120292.3672\n",
      "Epoch 41/250\n",
      "32/32 [==============================] - 0s 3ms/step - loss: 111322.3906\n",
      "Epoch 42/250\n",
      "32/32 [==============================] - 0s 3ms/step - loss: 102257.3047\n",
      "Epoch 43/250\n",
      "32/32 [==============================] - 0s 3ms/step - loss: 93140.8672\n",
      "Epoch 44/250\n",
      "32/32 [==============================] - 0s 3ms/step - loss: 83984.8516\n",
      "Epoch 45/250\n",
      "32/32 [==============================] - 0s 3ms/step - loss: 74788.5156\n",
      "Epoch 46/250\n",
      "32/32 [==============================] - 0s 3ms/step - loss: 65684.7734\n",
      "Epoch 47/250\n",
      "32/32 [==============================] - 0s 3ms/step - loss: 56830.5312\n",
      "Epoch 48/250\n",
      "32/32 [==============================] - 0s 3ms/step - loss: 48187.8203\n",
      "Epoch 49/250\n",
      "32/32 [==============================] - 0s 3ms/step - loss: 39946.9648\n",
      "Epoch 50/250\n",
      "32/32 [==============================] - 0s 3ms/step - loss: 32152.7852\n",
      "Epoch 51/250\n",
      "32/32 [==============================] - 0s 3ms/step - loss: 25052.9785\n",
      "Epoch 52/250\n",
      "32/32 [==============================] - 0s 3ms/step - loss: 18594.8301\n",
      "Epoch 53/250\n",
      "32/32 [==============================] - 0s 3ms/step - loss: 13019.6582\n",
      "Epoch 54/250\n",
      "32/32 [==============================] - 0s 3ms/step - loss: 8452.2168\n",
      "Epoch 55/250\n",
      "32/32 [==============================] - 0s 3ms/step - loss: 4982.3906\n",
      "Epoch 56/250\n",
      "32/32 [==============================] - 0s 3ms/step - loss: 2789.0420\n",
      "Epoch 57/250\n",
      "32/32 [==============================] - 0s 3ms/step - loss: 1774.2727\n",
      "Epoch 58/250\n",
      "32/32 [==============================] - 0s 3ms/step - loss: 1567.4036\n",
      "Epoch 59/250\n",
      "32/32 [==============================] - 0s 3ms/step - loss: 1526.0029\n",
      "Epoch 60/250\n",
      "32/32 [==============================] - 0s 3ms/step - loss: 1484.3872\n",
      "Epoch 61/250\n",
      "32/32 [==============================] - 0s 3ms/step - loss: 1437.8605\n",
      "Epoch 62/250\n",
      "32/32 [==============================] - 0s 3ms/step - loss: 1396.5582\n",
      "Epoch 63/250\n",
      "32/32 [==============================] - 0s 3ms/step - loss: 1358.9861\n",
      "Epoch 64/250\n",
      "32/32 [==============================] - 0s 3ms/step - loss: 1322.5404\n",
      "Epoch 65/250\n",
      "32/32 [==============================] - 0s 3ms/step - loss: 1283.9113\n",
      "Epoch 66/250\n",
      "32/32 [==============================] - 0s 3ms/step - loss: 1248.2932\n",
      "Epoch 67/250\n",
      "32/32 [==============================] - 0s 3ms/step - loss: 1212.9258\n",
      "Epoch 68/250\n",
      "32/32 [==============================] - 0s 3ms/step - loss: 1176.6077\n",
      "Epoch 69/250\n",
      "32/32 [==============================] - 0s 3ms/step - loss: 1140.0502\n",
      "Epoch 70/250\n",
      "32/32 [==============================] - 0s 3ms/step - loss: 1100.7433\n",
      "Epoch 71/250\n",
      "32/32 [==============================] - 0s 3ms/step - loss: 1066.9620\n",
      "Epoch 72/250\n",
      "32/32 [==============================] - 0s 3ms/step - loss: 1025.9421\n",
      "Epoch 73/250\n",
      "32/32 [==============================] - 0s 3ms/step - loss: 994.1995\n",
      "Epoch 74/250\n",
      "32/32 [==============================] - 0s 3ms/step - loss: 960.7053\n",
      "Epoch 75/250\n",
      "32/32 [==============================] - 0s 3ms/step - loss: 926.3150\n",
      "Epoch 76/250\n",
      "32/32 [==============================] - 0s 3ms/step - loss: 894.5844\n",
      "Epoch 77/250\n",
      "32/32 [==============================] - 0s 3ms/step - loss: 864.5191\n",
      "Epoch 78/250\n",
      "32/32 [==============================] - 0s 3ms/step - loss: 829.2713\n",
      "Epoch 79/250\n",
      "32/32 [==============================] - 0s 3ms/step - loss: 799.5836\n",
      "Epoch 80/250\n",
      "32/32 [==============================] - 0s 3ms/step - loss: 769.1078\n",
      "Epoch 81/250\n",
      "32/32 [==============================] - 0s 3ms/step - loss: 734.0817\n",
      "Epoch 82/250\n",
      "32/32 [==============================] - 0s 3ms/step - loss: 705.8046\n",
      "Epoch 83/250\n",
      "32/32 [==============================] - 0s 3ms/step - loss: 675.7239\n",
      "Epoch 84/250\n",
      "32/32 [==============================] - 0s 3ms/step - loss: 642.8545\n",
      "Epoch 85/250\n",
      "32/32 [==============================] - 0s 4ms/step - loss: 609.9005\n",
      "Epoch 86/250\n",
      "32/32 [==============================] - 0s 3ms/step - loss: 579.5575\n",
      "Epoch 87/250\n",
      "32/32 [==============================] - 0s 3ms/step - loss: 556.3316\n",
      "Epoch 88/250\n",
      "32/32 [==============================] - 0s 3ms/step - loss: 530.5359\n",
      "Epoch 89/250\n",
      "32/32 [==============================] - 0s 3ms/step - loss: 508.2930\n",
      "Epoch 90/250\n",
      "32/32 [==============================] - 0s 3ms/step - loss: 479.8456\n",
      "Epoch 91/250\n",
      "32/32 [==============================] - 0s 3ms/step - loss: 454.2476\n",
      "Epoch 92/250\n",
      "32/32 [==============================] - 0s 3ms/step - loss: 433.8154\n",
      "Epoch 93/250\n",
      "32/32 [==============================] - 0s 3ms/step - loss: 411.6551\n",
      "Epoch 94/250\n",
      "32/32 [==============================] - 0s 4ms/step - loss: 389.5348\n",
      "Epoch 95/250\n",
      "32/32 [==============================] - 0s 4ms/step - loss: 366.5326\n",
      "Epoch 96/250\n",
      "32/32 [==============================] - 0s 3ms/step - loss: 343.4279\n",
      "Epoch 97/250\n",
      "32/32 [==============================] - 0s 3ms/step - loss: 321.1761\n",
      "Epoch 98/250\n",
      "32/32 [==============================] - 0s 3ms/step - loss: 299.9476\n",
      "Epoch 99/250\n",
      "32/32 [==============================] - 0s 4ms/step - loss: 280.3236\n",
      "Epoch 100/250\n",
      "32/32 [==============================] - 0s 3ms/step - loss: 259.9968\n",
      "Epoch 101/250\n",
      "32/32 [==============================] - 0s 3ms/step - loss: 241.2487\n",
      "Epoch 102/250\n",
      "32/32 [==============================] - 0s 4ms/step - loss: 223.1608\n",
      "Epoch 103/250\n",
      "32/32 [==============================] - 0s 3ms/step - loss: 207.2714\n",
      "Epoch 104/250\n",
      "32/32 [==============================] - 0s 4ms/step - loss: 191.0614\n",
      "Epoch 105/250\n",
      "32/32 [==============================] - 0s 4ms/step - loss: 174.4225\n",
      "Epoch 106/250\n",
      "32/32 [==============================] - 0s 4ms/step - loss: 159.7912\n",
      "Epoch 107/250\n",
      "32/32 [==============================] - 0s 3ms/step - loss: 149.3501\n",
      "Epoch 108/250\n",
      "32/32 [==============================] - 0s 3ms/step - loss: 136.6762\n",
      "Epoch 109/250\n",
      "32/32 [==============================] - 0s 3ms/step - loss: 123.5739\n",
      "Epoch 110/250\n",
      "32/32 [==============================] - 0s 3ms/step - loss: 112.3735\n",
      "Epoch 111/250\n",
      "32/32 [==============================] - 0s 3ms/step - loss: 102.1832\n",
      "Epoch 112/250\n",
      "32/32 [==============================] - 0s 3ms/step - loss: 92.4820\n",
      "Epoch 113/250\n",
      "32/32 [==============================] - 0s 4ms/step - loss: 84.2806\n",
      "Epoch 114/250\n",
      "32/32 [==============================] - 0s 4ms/step - loss: 75.7289\n",
      "Epoch 115/250\n",
      "32/32 [==============================] - 0s 3ms/step - loss: 68.0001\n",
      "Epoch 116/250\n",
      "32/32 [==============================] - 0s 3ms/step - loss: 60.6473\n",
      "Epoch 117/250\n",
      "32/32 [==============================] - 0s 3ms/step - loss: 54.1512\n",
      "Epoch 118/250\n",
      "32/32 [==============================] - 0s 3ms/step - loss: 49.1920\n",
      "Epoch 119/250\n",
      "32/32 [==============================] - 0s 3ms/step - loss: 44.7747\n",
      "Epoch 120/250\n",
      "32/32 [==============================] - 0s 3ms/step - loss: 40.6698\n",
      "Epoch 121/250\n",
      "32/32 [==============================] - 0s 3ms/step - loss: 37.7370\n",
      "Epoch 122/250\n",
      "32/32 [==============================] - 0s 3ms/step - loss: 35.0007\n",
      "Epoch 123/250\n",
      "32/32 [==============================] - 0s 4ms/step - loss: 32.8858\n",
      "Epoch 124/250\n",
      "32/32 [==============================] - 0s 4ms/step - loss: 31.0648\n",
      "Epoch 125/250\n",
      "32/32 [==============================] - 0s 3ms/step - loss: 29.4467\n",
      "Epoch 126/250\n",
      "32/32 [==============================] - 0s 3ms/step - loss: 28.5070\n",
      "Epoch 127/250\n",
      "32/32 [==============================] - 0s 4ms/step - loss: 27.5850\n",
      "Epoch 128/250\n",
      "32/32 [==============================] - 0s 3ms/step - loss: 26.9809\n",
      "Epoch 129/250\n",
      "32/32 [==============================] - 0s 3ms/step - loss: 26.7137\n",
      "Epoch 130/250\n",
      "32/32 [==============================] - 0s 3ms/step - loss: 26.1474\n",
      "Epoch 131/250\n",
      "32/32 [==============================] - 0s 4ms/step - loss: 25.6753\n",
      "Epoch 132/250\n",
      "32/32 [==============================] - 0s 4ms/step - loss: 25.6468\n",
      "Epoch 133/250\n",
      "32/32 [==============================] - 0s 4ms/step - loss: 24.7186\n",
      "Epoch 134/250\n",
      "32/32 [==============================] - 0s 4ms/step - loss: 25.1122\n",
      "Epoch 135/250\n",
      "32/32 [==============================] - 0s 3ms/step - loss: 25.0589\n",
      "Epoch 136/250\n",
      "32/32 [==============================] - 0s 3ms/step - loss: 25.0932\n",
      "Epoch 137/250\n",
      "32/32 [==============================] - 0s 3ms/step - loss: 24.6903\n",
      "Epoch 138/250\n",
      "32/32 [==============================] - 0s 3ms/step - loss: 25.0632\n",
      "Epoch 139/250\n",
      "32/32 [==============================] - 0s 3ms/step - loss: 24.4777\n",
      "Epoch 140/250\n",
      "32/32 [==============================] - 0s 3ms/step - loss: 24.9846\n",
      "Epoch 141/250\n",
      "32/32 [==============================] - 0s 4ms/step - loss: 24.6466\n",
      "Epoch 142/250\n",
      "32/32 [==============================] - 0s 3ms/step - loss: 24.4783\n",
      "Epoch 143/250\n",
      "32/32 [==============================] - 0s 3ms/step - loss: 25.0072\n",
      "Epoch 144/250\n",
      "32/32 [==============================] - 0s 3ms/step - loss: 24.9410\n",
      "Epoch 145/250\n",
      "32/32 [==============================] - 0s 3ms/step - loss: 24.6822\n",
      "Epoch 146/250\n",
      "32/32 [==============================] - 0s 3ms/step - loss: 24.6389\n",
      "Epoch 147/250\n",
      "32/32 [==============================] - 0s 3ms/step - loss: 24.4037\n",
      "Epoch 148/250\n",
      "32/32 [==============================] - 0s 4ms/step - loss: 24.6049\n",
      "Epoch 149/250\n",
      "32/32 [==============================] - 0s 3ms/step - loss: 24.7483\n",
      "Epoch 150/250\n",
      "32/32 [==============================] - 0s 3ms/step - loss: 24.6305\n",
      "Epoch 151/250\n",
      "32/32 [==============================] - 0s 3ms/step - loss: 24.6008\n",
      "Epoch 152/250\n",
      "32/32 [==============================] - 0s 3ms/step - loss: 24.8248\n",
      "Epoch 153/250\n",
      "32/32 [==============================] - 0s 3ms/step - loss: 24.4762\n",
      "Epoch 154/250\n",
      "32/32 [==============================] - 0s 3ms/step - loss: 24.5890\n",
      "Epoch 155/250\n",
      "32/32 [==============================] - 0s 3ms/step - loss: 24.5202\n",
      "Epoch 156/250\n",
      "32/32 [==============================] - 0s 3ms/step - loss: 24.5173\n",
      "Epoch 157/250\n",
      "32/32 [==============================] - 0s 3ms/step - loss: 24.7501\n",
      "Epoch 158/250\n",
      "32/32 [==============================] - 0s 3ms/step - loss: 24.6356\n",
      "Epoch 159/250\n",
      "32/32 [==============================] - 0s 3ms/step - loss: 24.6891\n",
      "Epoch 160/250\n",
      "32/32 [==============================] - 0s 3ms/step - loss: 24.7491\n",
      "Epoch 161/250\n",
      "32/32 [==============================] - 0s 3ms/step - loss: 24.5950\n",
      "Epoch 162/250\n",
      "32/32 [==============================] - 0s 3ms/step - loss: 24.9129\n",
      "Epoch 163/250\n",
      "32/32 [==============================] - 0s 3ms/step - loss: 24.6244\n",
      "Epoch 164/250\n",
      "32/32 [==============================] - 0s 3ms/step - loss: 24.4654\n",
      "Epoch 165/250\n",
      "32/32 [==============================] - 0s 3ms/step - loss: 24.5533\n",
      "Epoch 166/250\n",
      "32/32 [==============================] - 0s 3ms/step - loss: 24.7281\n",
      "Epoch 167/250\n",
      "32/32 [==============================] - 0s 3ms/step - loss: 24.6757\n",
      "Epoch 168/250\n",
      "32/32 [==============================] - 0s 4ms/step - loss: 24.9214\n",
      "Epoch 169/250\n",
      "32/32 [==============================] - 0s 3ms/step - loss: 24.5341\n",
      "Epoch 170/250\n",
      "32/32 [==============================] - 0s 3ms/step - loss: 24.8804\n",
      "Epoch 171/250\n",
      "32/32 [==============================] - 0s 3ms/step - loss: 24.6722\n",
      "Epoch 172/250\n",
      "32/32 [==============================] - 0s 3ms/step - loss: 24.4949\n",
      "Epoch 173/250\n",
      "32/32 [==============================] - 0s 4ms/step - loss: 24.6724\n",
      "Epoch 174/250\n",
      "32/32 [==============================] - 0s 3ms/step - loss: 25.0194\n",
      "Epoch 175/250\n",
      "32/32 [==============================] - 0s 3ms/step - loss: 24.7238\n",
      "Epoch 176/250\n",
      "32/32 [==============================] - 0s 4ms/step - loss: 24.5767\n",
      "Epoch 177/250\n",
      "32/32 [==============================] - 0s 3ms/step - loss: 24.6043\n",
      "Epoch 178/250\n",
      "32/32 [==============================] - 0s 4ms/step - loss: 24.5817\n",
      "Epoch 179/250\n",
      "32/32 [==============================] - 0s 4ms/step - loss: 24.8816\n",
      "Epoch 180/250\n",
      "32/32 [==============================] - 0s 3ms/step - loss: 24.5631\n",
      "Epoch 181/250\n",
      "32/32 [==============================] - 0s 3ms/step - loss: 24.7326\n",
      "Epoch 182/250\n",
      "32/32 [==============================] - 0s 4ms/step - loss: 25.0071\n",
      "Epoch 183/250\n",
      "32/32 [==============================] - 0s 3ms/step - loss: 24.7552\n",
      "Epoch 184/250\n",
      "32/32 [==============================] - 0s 3ms/step - loss: 24.3677\n",
      "Epoch 185/250\n",
      "32/32 [==============================] - 0s 3ms/step - loss: 24.6837\n",
      "Epoch 186/250\n",
      "32/32 [==============================] - 0s 4ms/step - loss: 24.8835\n",
      "Epoch 187/250\n",
      "32/32 [==============================] - 0s 4ms/step - loss: 24.4264\n",
      "Epoch 188/250\n",
      "32/32 [==============================] - 0s 4ms/step - loss: 24.8572\n",
      "Epoch 189/250\n",
      "32/32 [==============================] - 0s 4ms/step - loss: 24.8603\n",
      "Epoch 190/250\n",
      "32/32 [==============================] - 0s 4ms/step - loss: 24.4624\n",
      "Epoch 191/250\n",
      "32/32 [==============================] - 0s 3ms/step - loss: 24.6634\n",
      "Epoch 192/250\n",
      "32/32 [==============================] - 0s 4ms/step - loss: 24.7650\n",
      "Epoch 193/250\n",
      "32/32 [==============================] - 0s 4ms/step - loss: 24.6489\n",
      "Epoch 194/250\n",
      "32/32 [==============================] - 0s 4ms/step - loss: 24.5489\n",
      "Epoch 195/250\n",
      "32/32 [==============================] - 0s 4ms/step - loss: 25.2261\n",
      "Epoch 196/250\n",
      "32/32 [==============================] - 0s 4ms/step - loss: 24.6011\n",
      "Epoch 197/250\n",
      "32/32 [==============================] - 0s 4ms/step - loss: 24.7286\n",
      "Epoch 198/250\n",
      "32/32 [==============================] - 0s 3ms/step - loss: 24.6857\n",
      "Epoch 199/250\n",
      "32/32 [==============================] - 0s 3ms/step - loss: 24.6775\n",
      "Epoch 200/250\n",
      "32/32 [==============================] - 0s 4ms/step - loss: 24.6627\n",
      "Epoch 201/250\n",
      "32/32 [==============================] - 0s 3ms/step - loss: 24.8846\n",
      "Epoch 202/250\n",
      "32/32 [==============================] - 0s 4ms/step - loss: 24.8199\n",
      "Epoch 203/250\n",
      "32/32 [==============================] - 0s 4ms/step - loss: 24.7970\n",
      "Epoch 204/250\n",
      "32/32 [==============================] - 0s 3ms/step - loss: 24.5542\n",
      "Epoch 205/250\n",
      "32/32 [==============================] - 0s 3ms/step - loss: 24.5672\n",
      "Epoch 206/250\n",
      "32/32 [==============================] - 0s 3ms/step - loss: 24.7410\n",
      "Epoch 207/250\n",
      "32/32 [==============================] - 0s 3ms/step - loss: 24.4640\n",
      "Epoch 208/250\n",
      "32/32 [==============================] - 0s 3ms/step - loss: 24.3738\n",
      "Epoch 209/250\n",
      "32/32 [==============================] - 0s 3ms/step - loss: 24.8524\n",
      "Epoch 210/250\n",
      "32/32 [==============================] - 0s 3ms/step - loss: 24.4319\n",
      "Epoch 211/250\n",
      "32/32 [==============================] - 0s 3ms/step - loss: 24.5619\n",
      "Epoch 212/250\n",
      "32/32 [==============================] - 0s 3ms/step - loss: 24.9011\n",
      "Epoch 213/250\n",
      "32/32 [==============================] - 0s 3ms/step - loss: 24.4128\n",
      "Epoch 214/250\n",
      "32/32 [==============================] - 0s 3ms/step - loss: 24.8294\n",
      "Epoch 215/250\n",
      "32/32 [==============================] - 0s 3ms/step - loss: 24.4415\n",
      "Epoch 216/250\n",
      "32/32 [==============================] - 0s 3ms/step - loss: 24.8262\n",
      "Epoch 217/250\n",
      "32/32 [==============================] - 0s 3ms/step - loss: 24.4681\n",
      "Epoch 218/250\n",
      "32/32 [==============================] - 0s 4ms/step - loss: 24.9178\n",
      "Epoch 219/250\n",
      "32/32 [==============================] - 0s 3ms/step - loss: 24.5157\n",
      "Epoch 220/250\n",
      "32/32 [==============================] - 0s 4ms/step - loss: 24.6538\n",
      "Epoch 221/250\n",
      "32/32 [==============================] - 0s 3ms/step - loss: 24.5726\n",
      "Epoch 222/250\n",
      "32/32 [==============================] - 0s 4ms/step - loss: 24.7341\n",
      "Epoch 223/250\n",
      "32/32 [==============================] - 0s 4ms/step - loss: 24.7177\n",
      "Epoch 224/250\n",
      "32/32 [==============================] - 0s 3ms/step - loss: 24.7176\n",
      "Epoch 225/250\n",
      "32/32 [==============================] - 0s 3ms/step - loss: 24.6572\n",
      "Epoch 226/250\n",
      "32/32 [==============================] - 0s 3ms/step - loss: 24.6012\n",
      "Epoch 227/250\n",
      "32/32 [==============================] - 0s 4ms/step - loss: 24.6139\n",
      "Epoch 228/250\n",
      "32/32 [==============================] - 0s 4ms/step - loss: 24.7771\n",
      "Epoch 229/250\n",
      "32/32 [==============================] - 0s 3ms/step - loss: 24.5294\n",
      "Epoch 230/250\n",
      "32/32 [==============================] - 0s 3ms/step - loss: 24.9957\n",
      "Epoch 231/250\n",
      "32/32 [==============================] - 0s 3ms/step - loss: 24.5876\n",
      "Epoch 232/250\n",
      "32/32 [==============================] - 0s 3ms/step - loss: 25.0260\n",
      "Epoch 233/250\n",
      "32/32 [==============================] - 0s 3ms/step - loss: 24.5520\n",
      "Epoch 234/250\n",
      "32/32 [==============================] - 0s 4ms/step - loss: 24.9438\n",
      "Epoch 235/250\n",
      "32/32 [==============================] - 0s 4ms/step - loss: 24.7841\n",
      "Epoch 236/250\n",
      "32/32 [==============================] - 0s 3ms/step - loss: 24.7330\n",
      "Epoch 237/250\n",
      "32/32 [==============================] - 0s 3ms/step - loss: 24.6658\n",
      "Epoch 238/250\n",
      "32/32 [==============================] - 0s 3ms/step - loss: 24.4742\n",
      "Epoch 239/250\n",
      "32/32 [==============================] - 0s 3ms/step - loss: 24.7210\n",
      "Epoch 240/250\n",
      "32/32 [==============================] - 0s 3ms/step - loss: 24.9205\n",
      "Epoch 241/250\n",
      "32/32 [==============================] - 0s 3ms/step - loss: 24.7241\n",
      "Epoch 242/250\n",
      "32/32 [==============================] - 0s 3ms/step - loss: 24.7561\n",
      "Epoch 243/250\n",
      "32/32 [==============================] - 0s 4ms/step - loss: 24.4928\n",
      "Epoch 244/250\n",
      "32/32 [==============================] - 0s 4ms/step - loss: 24.8371\n",
      "Epoch 245/250\n",
      "32/32 [==============================] - 0s 4ms/step - loss: 24.8734\n",
      "Epoch 246/250\n",
      "32/32 [==============================] - 0s 3ms/step - loss: 24.7461\n",
      "Epoch 247/250\n",
      "32/32 [==============================] - 0s 3ms/step - loss: 24.6698\n",
      "Epoch 248/250\n",
      "32/32 [==============================] - 0s 3ms/step - loss: 24.6800\n",
      "Epoch 249/250\n",
      "32/32 [==============================] - 0s 3ms/step - loss: 24.6254\n",
      "Epoch 250/250\n",
      "32/32 [==============================] - 0s 4ms/step - loss: 24.4731\n"
     ]
    },
    {
     "data": {
      "text/plain": [
       "<keras.callbacks.History at 0x7fbbc5bfb340>"
      ]
     },
     "execution_count": 57,
     "metadata": {},
     "output_type": "execute_result"
    }
   ],
   "source": [
    "final_model = Sequential()\n",
    "\n",
    "final_model.add(\n",
    "    Dense(units=4, activation=\"relu\")\n",
    ")  # input_dim=2 or input_dim=X_train.shape[1]\n",
    "final_model.add(Dense(units=4, activation=\"relu\"))\n",
    "final_model.add(Dense(units=4, activation=\"relu\"))\n",
    "final_model.add(Dense(1))\n",
    "\n",
    "final_model.compile(optimizer=\"rmsprop\", loss=\"mse\")\n",
    "\n",
    "final_model.fit(x=X_scaled, y=y, batch_size=32, epochs=250)"
   ]
  },
  {
   "cell_type": "markdown",
   "metadata": {
    "id": "5Ncus4tsYGAT"
   },
   "source": [
    "### Saving a Model"
   ]
  },
  {
   "cell_type": "markdown",
   "metadata": {
    "id": "OkZlNOz_YGAT"
   },
   "source": [
    "You can save a TensorFlow/Keras model using the method [`model.save()`](https://www.tensorflow.org/tutorials/keras/save_and_load#save_the_entire_model).\n",
    "\n",
    "Keras saves models by inspecting their architectures. This technique saves everything:\n",
    "\n",
    "- The weight values\n",
    "- The model's architecture\n",
    "- The model's training configuration (what you pass to the .compile() method)\n",
    "- The optimizer and its state, if any (this enables you to restart training where you left off)\n",
    "\n",
    "There are two ways to save a model in TensorFlow:\n",
    "1. The [SavedModel format](https://www.tensorflow.org/tutorials/keras/save_and_load#savedmodel_format) (default).\n",
    "2. The [HDF5 format](https://www.tensorflow.org/tutorials/keras/save_and_load#hdf5_format).\n",
    "\n",
    "The main difference between the two is the SavedModel is automatically able to save custom objects (such as special layers) without additional modifications when loading the model back in.\n",
    "\n",
    "The key difference between HDF5 and SavedModel is that HDF5 uses object configs to save the model architecture, while SavedModel saves the execution graph. Thus, SavedModels are able to save custom objects like subclassed models and custom layers without requiring the original code."
   ]
  },
  {
   "cell_type": "code",
   "execution_count": 58,
   "metadata": {
    "id": "aemsr3lnYGAT"
   },
   "outputs": [],
   "source": [
    "final_model.save(\"model_fake_reg.h5\")  # creates a HDF5 file 'my_model.h5'"
   ]
  },
  {
   "cell_type": "code",
   "execution_count": 59,
   "metadata": {
    "id": "foxJ6r9DYGAU"
   },
   "outputs": [],
   "source": [
    "# final_model.save(\"model_fake_reg\")"
   ]
  },
  {
   "cell_type": "markdown",
   "metadata": {
    "id": "_kkX_nYHYGAU"
   },
   "source": [
    "### Loading Model"
   ]
  },
  {
   "cell_type": "code",
   "execution_count": 60,
   "metadata": {
    "id": "79HGbk3lYGAU"
   },
   "outputs": [],
   "source": [
    "from tensorflow.keras.models import load_model"
   ]
  },
  {
   "cell_type": "code",
   "execution_count": 61,
   "metadata": {
    "id": "67XRxNYEYGAU"
   },
   "outputs": [],
   "source": [
    "model_fake_reg = load_model(\"model_fake_reg.h5\")"
   ]
  },
  {
   "cell_type": "code",
   "execution_count": 62,
   "metadata": {
    "id": "QxqZLPXYYGAU"
   },
   "outputs": [],
   "source": [
    "scaler_fake_reg = pickle.load(open(\"scaler_fake_reg\", \"rb\"))"
   ]
  },
  {
   "cell_type": "markdown",
   "metadata": {
    "id": "y-YjBDtXYGAV"
   },
   "source": [
    "## Prediction-1"
   ]
  },
  {
   "cell_type": "code",
   "execution_count": 63,
   "metadata": {
    "id": "BTyJWjnCYGAV"
   },
   "outputs": [],
   "source": [
    "sample = [[998, 1000]]"
   ]
  },
  {
   "cell_type": "code",
   "execution_count": 64,
   "metadata": {
    "id": "VHYkTc51YGAV"
   },
   "outputs": [
    {
     "name": "stderr",
     "output_type": "stream",
     "text": [
      "/home/nashubuntu/miniconda3/envs/tf/lib/python3.9/site-packages/sklearn/base.py:439: UserWarning: X does not have valid feature names, but MinMaxScaler was fitted with feature names\n",
      "  warnings.warn(\n"
     ]
    }
   ],
   "source": [
    "sample_scaled = scaler_fake_reg.transform(sample)"
   ]
  },
  {
   "cell_type": "code",
   "execution_count": 65,
   "metadata": {
    "id": "NT9Tyvw2YGAW",
    "outputId": "2c4f821f-a780-4704-cfa6-fa6c96bcac8c"
   },
   "outputs": [
    {
     "name": "stdout",
     "output_type": "stream",
     "text": [
      "1/1 [==============================] - 0s 37ms/step\n"
     ]
    },
    {
     "data": {
      "text/plain": [
       "array([[418.7997]], dtype=float32)"
      ]
     },
     "execution_count": 65,
     "metadata": {},
     "output_type": "execute_result"
    }
   ],
   "source": [
    "model_fake_reg.predict(sample_scaled)"
   ]
  },
  {
   "cell_type": "markdown",
   "metadata": {
    "id": "OsxmtZE0YGAW"
   },
   "source": [
    "## Prediction-2"
   ]
  },
  {
   "cell_type": "code",
   "execution_count": 66,
   "metadata": {
    "id": "gMZwzU3_YGAX"
   },
   "outputs": [],
   "source": [
    "my_dict = {\n",
    "    \"feature1\": [997, 998, 999, 1000, 1001],\n",
    "    \"feature2\": [1000, 999, 998, 997, 996],\n",
    "}"
   ]
  },
  {
   "cell_type": "code",
   "execution_count": 67,
   "metadata": {
    "id": "_XbY1NOWYGAX",
    "outputId": "cb35570e-b2fb-4d3f-f8b6-c991fd467f0f"
   },
   "outputs": [
    {
     "data": {
      "text/html": [
       "<div>\n",
       "<style scoped>\n",
       "    .dataframe tbody tr th:only-of-type {\n",
       "        vertical-align: middle;\n",
       "    }\n",
       "\n",
       "    .dataframe tbody tr th {\n",
       "        vertical-align: top;\n",
       "    }\n",
       "\n",
       "    .dataframe thead th {\n",
       "        text-align: right;\n",
       "    }\n",
       "</style>\n",
       "<table border=\"1\" class=\"dataframe\">\n",
       "  <thead>\n",
       "    <tr style=\"text-align: right;\">\n",
       "      <th></th>\n",
       "      <th>feature1</th>\n",
       "      <th>feature2</th>\n",
       "    </tr>\n",
       "  </thead>\n",
       "  <tbody>\n",
       "    <tr>\n",
       "      <th>0</th>\n",
       "      <td>997</td>\n",
       "      <td>1000</td>\n",
       "    </tr>\n",
       "    <tr>\n",
       "      <th>1</th>\n",
       "      <td>998</td>\n",
       "      <td>999</td>\n",
       "    </tr>\n",
       "    <tr>\n",
       "      <th>2</th>\n",
       "      <td>999</td>\n",
       "      <td>998</td>\n",
       "    </tr>\n",
       "    <tr>\n",
       "      <th>3</th>\n",
       "      <td>1000</td>\n",
       "      <td>997</td>\n",
       "    </tr>\n",
       "    <tr>\n",
       "      <th>4</th>\n",
       "      <td>1001</td>\n",
       "      <td>996</td>\n",
       "    </tr>\n",
       "  </tbody>\n",
       "</table>\n",
       "</div>"
      ],
      "text/plain": [
       "   feature1  feature2\n",
       "0       997      1000\n",
       "1       998       999\n",
       "2       999       998\n",
       "3      1000       997\n",
       "4      1001       996"
      ]
     },
     "execution_count": 67,
     "metadata": {},
     "output_type": "execute_result"
    }
   ],
   "source": [
    "sample = pd.DataFrame(my_dict)\n",
    "sample"
   ]
  },
  {
   "cell_type": "code",
   "execution_count": 68,
   "metadata": {
    "id": "ag-dSyYwYGAX",
    "outputId": "9b05d4a0-21d4-495b-820f-5a150e86936e"
   },
   "outputs": [
    {
     "data": {
      "text/plain": [
       "array([[-0.00948799,  0.52980619],\n",
       "       [ 0.15312457,  0.35345977],\n",
       "       [ 0.31573713,  0.17711336],\n",
       "       [ 0.47834969,  0.00076694],\n",
       "       [ 0.64096225, -0.17557948]])"
      ]
     },
     "execution_count": 68,
     "metadata": {},
     "output_type": "execute_result"
    }
   ],
   "source": [
    "sample_scaled = scaler_fake_reg.transform(sample)\n",
    "sample_scaled"
   ]
  },
  {
   "cell_type": "code",
   "execution_count": 69,
   "metadata": {
    "id": "fkgEHtfuYGAX",
    "outputId": "2b416d1e-5942-40ff-e9ea-82e55bfc98d7"
   },
   "outputs": [
    {
     "name": "stdout",
     "output_type": "stream",
     "text": [
      "1/1 [==============================] - 0s 17ms/step\n"
     ]
    },
    {
     "data": {
      "text/plain": [
       "array([[378.73407],\n",
       "       [330.42157],\n",
       "       [282.10907],\n",
       "       [233.79651],\n",
       "       [185.48401]], dtype=float32)"
      ]
     },
     "execution_count": 69,
     "metadata": {},
     "output_type": "execute_result"
    }
   ],
   "source": [
    "model_fake_reg.predict(sample_scaled)"
   ]
  },
  {
   "cell_type": "markdown",
   "metadata": {
    "id": "A_JalkGuYGAY"
   },
   "source": [
    "___\n",
    "\n",
    "<p style=\"text-align: center;\"><img src=\"https://docs.google.com/uc?id=1lY0Uj5R04yMY3-ZppPWxqCr5pvBLYPnV\" class=\"img-fluid\" alt=\"CLRSWY\"></p>\n",
    "\n",
    "___"
   ]
  }
 ],
 "metadata": {
  "colab": {
   "name": "DL-S2 (Installing Tensorflow & Keras Syntext Basics-fake reg).ipynb",
   "provenance": []
  },
  "kernelspec": {
   "display_name": "Python 3 (ipykernel)",
   "language": "python",
   "name": "python3"
  },
  "language_info": {
   "codemirror_mode": {
    "name": "ipython",
    "version": 3
   },
   "file_extension": ".py",
   "mimetype": "text/x-python",
   "name": "python",
   "nbconvert_exporter": "python",
   "pygments_lexer": "ipython3",
   "version": "3.11.7"
  },
  "toc": {
   "base_numbering": 1,
   "nav_menu": {},
   "number_sections": false,
   "sideBar": true,
   "skip_h1_title": false,
   "title_cell": "Table of Contents",
   "title_sidebar": "Contents",
   "toc_cell": false,
   "toc_position": {
    "height": "calc(100% - 180px)",
    "left": "10px",
    "top": "150px",
    "width": "300.099px"
   },
   "toc_section_display": true,
   "toc_window_display": true
  }
 },
 "nbformat": 4,
 "nbformat_minor": 4
}
